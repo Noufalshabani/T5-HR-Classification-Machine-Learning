{
 "cells": [
  {
   "cell_type": "code",
   "execution_count": 1,
   "id": "a2a83906",
   "metadata": {
    "id": "a2a83906"
   },
   "outputs": [],
   "source": [
    "import pandas as pd\n",
    "import numpy as np\n",
    "import seaborn as sns\n",
    "from sklearn.model_selection import train_test_split\n",
    "from sklearn.neighbors import NearestNeighbors\n",
    "from sklearn.neighbors import KNeighborsClassifier\n",
    "from sklearn.feature_selection import SelectPercentile\n",
    "from sklearn.feature_selection import chi2 , f_classif \n",
    "from sklearn.metrics import accuracy_score ,confusion_matrix,classification_report,plot_confusion_matrix\n",
    "import matplotlib.pyplot as plt\n",
    "from sklearn.model_selection import GridSearchCV\n",
    "from sklearn import preprocessing\n",
    "from sklearn.metrics import precision_score , recall_score, f1_score \n",
    "from sklearn import metrics\n",
    "from sklearn.ensemble import RandomForestClassifier\n",
    "from sklearn.metrics import roc_auc_score\n",
    "from sklearn.svm import SVC, LinearSVC\n",
    "from sklearn.metrics import mean_squared_error\n",
    "from sklearn.linear_model import LogisticRegression\n",
    "import warnings\n",
    "from sklearn import svm\n",
    "warnings.filterwarnings('ignore')\n",
    "import xgboost as xgb"
   ]
  },
  {
   "cell_type": "code",
   "execution_count": 2,
   "id": "3bd716ca",
   "metadata": {
    "colab": {
     "base_uri": "https://localhost:8080/",
     "height": 531
    },
    "id": "3bd716ca",
    "outputId": "ee4dbb68-28a4-4979-a1f9-0678bb8feb83"
   },
   "outputs": [
    {
     "data": {
      "text/html": [
       "<div>\n",
       "<style scoped>\n",
       "    .dataframe tbody tr th:only-of-type {\n",
       "        vertical-align: middle;\n",
       "    }\n",
       "\n",
       "    .dataframe tbody tr th {\n",
       "        vertical-align: top;\n",
       "    }\n",
       "\n",
       "    .dataframe thead th {\n",
       "        text-align: right;\n",
       "    }\n",
       "</style>\n",
       "<table border=\"1\" class=\"dataframe\">\n",
       "  <thead>\n",
       "    <tr style=\"text-align: right;\">\n",
       "      <th></th>\n",
       "      <th>employee_id</th>\n",
       "      <th>department</th>\n",
       "      <th>region</th>\n",
       "      <th>education</th>\n",
       "      <th>gender</th>\n",
       "      <th>recruitment_channel</th>\n",
       "      <th>no_of_trainings</th>\n",
       "      <th>age</th>\n",
       "      <th>previous_year_rating</th>\n",
       "      <th>length_of_service</th>\n",
       "      <th>awards_won?</th>\n",
       "      <th>avg_training_score</th>\n",
       "      <th>is_promoted</th>\n",
       "    </tr>\n",
       "  </thead>\n",
       "  <tbody>\n",
       "    <tr>\n",
       "      <th>0</th>\n",
       "      <td>65438</td>\n",
       "      <td>Sales &amp; Marketing</td>\n",
       "      <td>region_7</td>\n",
       "      <td>Master's &amp; above</td>\n",
       "      <td>f</td>\n",
       "      <td>sourcing</td>\n",
       "      <td>1</td>\n",
       "      <td>35</td>\n",
       "      <td>5.0</td>\n",
       "      <td>8</td>\n",
       "      <td>0</td>\n",
       "      <td>49</td>\n",
       "      <td>0</td>\n",
       "    </tr>\n",
       "    <tr>\n",
       "      <th>1</th>\n",
       "      <td>65141</td>\n",
       "      <td>Operations</td>\n",
       "      <td>region_22</td>\n",
       "      <td>Bachelor's</td>\n",
       "      <td>m</td>\n",
       "      <td>other</td>\n",
       "      <td>1</td>\n",
       "      <td>30</td>\n",
       "      <td>5.0</td>\n",
       "      <td>4</td>\n",
       "      <td>0</td>\n",
       "      <td>60</td>\n",
       "      <td>0</td>\n",
       "    </tr>\n",
       "    <tr>\n",
       "      <th>2</th>\n",
       "      <td>7513</td>\n",
       "      <td>Sales &amp; Marketing</td>\n",
       "      <td>region_19</td>\n",
       "      <td>Bachelor's</td>\n",
       "      <td>m</td>\n",
       "      <td>sourcing</td>\n",
       "      <td>1</td>\n",
       "      <td>34</td>\n",
       "      <td>3.0</td>\n",
       "      <td>7</td>\n",
       "      <td>0</td>\n",
       "      <td>50</td>\n",
       "      <td>0</td>\n",
       "    </tr>\n",
       "    <tr>\n",
       "      <th>3</th>\n",
       "      <td>2542</td>\n",
       "      <td>Sales &amp; Marketing</td>\n",
       "      <td>region_23</td>\n",
       "      <td>Bachelor's</td>\n",
       "      <td>m</td>\n",
       "      <td>other</td>\n",
       "      <td>2</td>\n",
       "      <td>39</td>\n",
       "      <td>1.0</td>\n",
       "      <td>10</td>\n",
       "      <td>0</td>\n",
       "      <td>50</td>\n",
       "      <td>0</td>\n",
       "    </tr>\n",
       "    <tr>\n",
       "      <th>4</th>\n",
       "      <td>48945</td>\n",
       "      <td>Technology</td>\n",
       "      <td>region_26</td>\n",
       "      <td>Bachelor's</td>\n",
       "      <td>m</td>\n",
       "      <td>other</td>\n",
       "      <td>1</td>\n",
       "      <td>45</td>\n",
       "      <td>3.0</td>\n",
       "      <td>2</td>\n",
       "      <td>0</td>\n",
       "      <td>73</td>\n",
       "      <td>0</td>\n",
       "    </tr>\n",
       "    <tr>\n",
       "      <th>...</th>\n",
       "      <td>...</td>\n",
       "      <td>...</td>\n",
       "      <td>...</td>\n",
       "      <td>...</td>\n",
       "      <td>...</td>\n",
       "      <td>...</td>\n",
       "      <td>...</td>\n",
       "      <td>...</td>\n",
       "      <td>...</td>\n",
       "      <td>...</td>\n",
       "      <td>...</td>\n",
       "      <td>...</td>\n",
       "      <td>...</td>\n",
       "    </tr>\n",
       "    <tr>\n",
       "      <th>54803</th>\n",
       "      <td>3030</td>\n",
       "      <td>Technology</td>\n",
       "      <td>region_14</td>\n",
       "      <td>Bachelor's</td>\n",
       "      <td>m</td>\n",
       "      <td>sourcing</td>\n",
       "      <td>1</td>\n",
       "      <td>48</td>\n",
       "      <td>3.0</td>\n",
       "      <td>17</td>\n",
       "      <td>0</td>\n",
       "      <td>78</td>\n",
       "      <td>0</td>\n",
       "    </tr>\n",
       "    <tr>\n",
       "      <th>54804</th>\n",
       "      <td>74592</td>\n",
       "      <td>Operations</td>\n",
       "      <td>region_27</td>\n",
       "      <td>Master's &amp; above</td>\n",
       "      <td>f</td>\n",
       "      <td>other</td>\n",
       "      <td>1</td>\n",
       "      <td>37</td>\n",
       "      <td>2.0</td>\n",
       "      <td>6</td>\n",
       "      <td>0</td>\n",
       "      <td>56</td>\n",
       "      <td>0</td>\n",
       "    </tr>\n",
       "    <tr>\n",
       "      <th>54805</th>\n",
       "      <td>13918</td>\n",
       "      <td>Analytics</td>\n",
       "      <td>region_1</td>\n",
       "      <td>Bachelor's</td>\n",
       "      <td>m</td>\n",
       "      <td>other</td>\n",
       "      <td>1</td>\n",
       "      <td>27</td>\n",
       "      <td>5.0</td>\n",
       "      <td>3</td>\n",
       "      <td>0</td>\n",
       "      <td>79</td>\n",
       "      <td>0</td>\n",
       "    </tr>\n",
       "    <tr>\n",
       "      <th>54806</th>\n",
       "      <td>13614</td>\n",
       "      <td>Sales &amp; Marketing</td>\n",
       "      <td>region_9</td>\n",
       "      <td>NaN</td>\n",
       "      <td>m</td>\n",
       "      <td>sourcing</td>\n",
       "      <td>1</td>\n",
       "      <td>29</td>\n",
       "      <td>1.0</td>\n",
       "      <td>2</td>\n",
       "      <td>0</td>\n",
       "      <td>45</td>\n",
       "      <td>0</td>\n",
       "    </tr>\n",
       "    <tr>\n",
       "      <th>54807</th>\n",
       "      <td>51526</td>\n",
       "      <td>HR</td>\n",
       "      <td>region_22</td>\n",
       "      <td>Bachelor's</td>\n",
       "      <td>m</td>\n",
       "      <td>other</td>\n",
       "      <td>1</td>\n",
       "      <td>27</td>\n",
       "      <td>1.0</td>\n",
       "      <td>5</td>\n",
       "      <td>0</td>\n",
       "      <td>49</td>\n",
       "      <td>0</td>\n",
       "    </tr>\n",
       "  </tbody>\n",
       "</table>\n",
       "<p>54808 rows × 13 columns</p>\n",
       "</div>"
      ],
      "text/plain": [
       "       employee_id         department     region         education gender  \\\n",
       "0            65438  Sales & Marketing   region_7  Master's & above      f   \n",
       "1            65141         Operations  region_22        Bachelor's      m   \n",
       "2             7513  Sales & Marketing  region_19        Bachelor's      m   \n",
       "3             2542  Sales & Marketing  region_23        Bachelor's      m   \n",
       "4            48945         Technology  region_26        Bachelor's      m   \n",
       "...            ...                ...        ...               ...    ...   \n",
       "54803         3030         Technology  region_14        Bachelor's      m   \n",
       "54804        74592         Operations  region_27  Master's & above      f   \n",
       "54805        13918          Analytics   region_1        Bachelor's      m   \n",
       "54806        13614  Sales & Marketing   region_9               NaN      m   \n",
       "54807        51526                 HR  region_22        Bachelor's      m   \n",
       "\n",
       "      recruitment_channel  no_of_trainings  age  previous_year_rating  \\\n",
       "0                sourcing                1   35                   5.0   \n",
       "1                   other                1   30                   5.0   \n",
       "2                sourcing                1   34                   3.0   \n",
       "3                   other                2   39                   1.0   \n",
       "4                   other                1   45                   3.0   \n",
       "...                   ...              ...  ...                   ...   \n",
       "54803            sourcing                1   48                   3.0   \n",
       "54804               other                1   37                   2.0   \n",
       "54805               other                1   27                   5.0   \n",
       "54806            sourcing                1   29                   1.0   \n",
       "54807               other                1   27                   1.0   \n",
       "\n",
       "       length_of_service  awards_won?  avg_training_score  is_promoted  \n",
       "0                      8            0                  49            0  \n",
       "1                      4            0                  60            0  \n",
       "2                      7            0                  50            0  \n",
       "3                     10            0                  50            0  \n",
       "4                      2            0                  73            0  \n",
       "...                  ...          ...                 ...          ...  \n",
       "54803                 17            0                  78            0  \n",
       "54804                  6            0                  56            0  \n",
       "54805                  3            0                  79            0  \n",
       "54806                  2            0                  45            0  \n",
       "54807                  5            0                  49            0  \n",
       "\n",
       "[54808 rows x 13 columns]"
      ]
     },
     "execution_count": 2,
     "metadata": {},
     "output_type": "execute_result"
    }
   ],
   "source": [
    "df = pd.read_csv(\"train.csv\")\n",
    "df"
   ]
  },
  {
   "cell_type": "code",
   "execution_count": 3,
   "id": "430e05c9",
   "metadata": {
    "colab": {
     "base_uri": "https://localhost:8080/"
    },
    "id": "430e05c9",
    "outputId": "d9b7f398-4645-45e8-a8ad-88c30def6e46"
   },
   "outputs": [
    {
     "data": {
      "text/plain": [
       "0    50140\n",
       "1     4668\n",
       "Name: is_promoted, dtype: int64"
      ]
     },
     "execution_count": 3,
     "metadata": {},
     "output_type": "execute_result"
    }
   ],
   "source": [
    "#Using value_counts to count number of is_promoted\n",
    "df.is_promoted.value_counts()\n"
   ]
  },
  {
   "cell_type": "code",
   "execution_count": 4,
   "id": "0d5c9ca0",
   "metadata": {
    "colab": {
     "base_uri": "https://localhost:8080/"
    },
    "id": "0d5c9ca0",
    "outputId": "5eb5cdd9-52a2-4571-9999-1aa3d182b0e6"
   },
   "outputs": [
    {
     "data": {
      "text/plain": [
       "employee_id                0\n",
       "department                 0\n",
       "region                     0\n",
       "education               2409\n",
       "gender                     0\n",
       "recruitment_channel        0\n",
       "no_of_trainings            0\n",
       "age                        0\n",
       "previous_year_rating    4124\n",
       "length_of_service          0\n",
       "awards_won?                0\n",
       "avg_training_score         0\n",
       "is_promoted                0\n",
       "dtype: int64"
      ]
     },
     "execution_count": 4,
     "metadata": {},
     "output_type": "execute_result"
    }
   ],
   "source": [
    "df.isna().sum()"
   ]
  },
  {
   "cell_type": "code",
   "execution_count": 5,
   "id": "eb980c00",
   "metadata": {
    "colab": {
     "base_uri": "https://localhost:8080/"
    },
    "id": "eb980c00",
    "outputId": "cc9df445-387f-493f-a4e0-e1affdbd3c06"
   },
   "outputs": [
    {
     "data": {
      "text/plain": [
       "employee_id                0\n",
       "department                 0\n",
       "region                     0\n",
       "education                  0\n",
       "gender                     0\n",
       "recruitment_channel        0\n",
       "no_of_trainings            0\n",
       "age                        0\n",
       "previous_year_rating    3739\n",
       "length_of_service          0\n",
       "awards_won?                0\n",
       "avg_training_score         0\n",
       "is_promoted                0\n",
       "dtype: int64"
      ]
     },
     "execution_count": 5,
     "metadata": {},
     "output_type": "execute_result"
    }
   ],
   "source": [
    "df = df[df['education'].notna()]\n",
    "df.isna().sum()"
   ]
  },
  {
   "cell_type": "code",
   "execution_count": 6,
   "id": "62c61dda",
   "metadata": {
    "id": "62c61dda"
   },
   "outputs": [],
   "source": [
    "df['previous_year_rating'].fillna(0, inplace = True)"
   ]
  },
  {
   "cell_type": "code",
   "execution_count": 7,
   "id": "ccc20c65",
   "metadata": {
    "colab": {
     "base_uri": "https://localhost:8080/"
    },
    "id": "ccc20c65",
    "outputId": "1bda8801-385a-4327-f2e8-4550c3ff542d"
   },
   "outputs": [
    {
     "data": {
      "text/plain": [
       "employee_id             0\n",
       "department              0\n",
       "region                  0\n",
       "education               0\n",
       "gender                  0\n",
       "recruitment_channel     0\n",
       "no_of_trainings         0\n",
       "age                     0\n",
       "previous_year_rating    0\n",
       "length_of_service       0\n",
       "awards_won?             0\n",
       "avg_training_score      0\n",
       "is_promoted             0\n",
       "dtype: int64"
      ]
     },
     "execution_count": 7,
     "metadata": {},
     "output_type": "execute_result"
    }
   ],
   "source": [
    "df.isna().sum()"
   ]
  },
  {
   "cell_type": "code",
   "execution_count": 8,
   "id": "e12f7d90",
   "metadata": {
    "colab": {
     "base_uri": "https://localhost:8080/"
    },
    "id": "e12f7d90",
    "outputId": "a1aa9203-dace-48e1-a4c4-e30acbc509c0"
   },
   "outputs": [
    {
     "data": {
      "text/plain": [
       "(52399, 13)"
      ]
     },
     "execution_count": 8,
     "metadata": {},
     "output_type": "execute_result"
    }
   ],
   "source": [
    "df.shape"
   ]
  },
  {
   "cell_type": "code",
   "execution_count": 9,
   "id": "830a5169",
   "metadata": {
    "colab": {
     "base_uri": "https://localhost:8080/",
     "height": 278
    },
    "id": "830a5169",
    "outputId": "49c0b3da-81bf-4352-9ba8-0831664b9e7d"
   },
   "outputs": [
    {
     "data": {
      "text/html": [
       "<div>\n",
       "<style scoped>\n",
       "    .dataframe tbody tr th:only-of-type {\n",
       "        vertical-align: middle;\n",
       "    }\n",
       "\n",
       "    .dataframe tbody tr th {\n",
       "        vertical-align: top;\n",
       "    }\n",
       "\n",
       "    .dataframe thead th {\n",
       "        text-align: right;\n",
       "    }\n",
       "</style>\n",
       "<table border=\"1\" class=\"dataframe\">\n",
       "  <thead>\n",
       "    <tr style=\"text-align: right;\">\n",
       "      <th></th>\n",
       "      <th>employee_id</th>\n",
       "      <th>department</th>\n",
       "      <th>region</th>\n",
       "      <th>education</th>\n",
       "      <th>gender</th>\n",
       "      <th>recruitment_channel</th>\n",
       "      <th>no_of_trainings</th>\n",
       "      <th>age</th>\n",
       "      <th>previous_year_rating</th>\n",
       "      <th>length_of_service</th>\n",
       "      <th>awards_won</th>\n",
       "      <th>avg_training_score</th>\n",
       "      <th>is_promoted</th>\n",
       "    </tr>\n",
       "  </thead>\n",
       "  <tbody>\n",
       "    <tr>\n",
       "      <th>0</th>\n",
       "      <td>65438</td>\n",
       "      <td>Sales &amp; Marketing</td>\n",
       "      <td>region_7</td>\n",
       "      <td>Master's &amp; above</td>\n",
       "      <td>f</td>\n",
       "      <td>sourcing</td>\n",
       "      <td>1</td>\n",
       "      <td>35</td>\n",
       "      <td>5.0</td>\n",
       "      <td>8</td>\n",
       "      <td>0</td>\n",
       "      <td>49</td>\n",
       "      <td>0</td>\n",
       "    </tr>\n",
       "    <tr>\n",
       "      <th>1</th>\n",
       "      <td>65141</td>\n",
       "      <td>Operations</td>\n",
       "      <td>region_22</td>\n",
       "      <td>Bachelor's</td>\n",
       "      <td>m</td>\n",
       "      <td>other</td>\n",
       "      <td>1</td>\n",
       "      <td>30</td>\n",
       "      <td>5.0</td>\n",
       "      <td>4</td>\n",
       "      <td>0</td>\n",
       "      <td>60</td>\n",
       "      <td>0</td>\n",
       "    </tr>\n",
       "    <tr>\n",
       "      <th>2</th>\n",
       "      <td>7513</td>\n",
       "      <td>Sales &amp; Marketing</td>\n",
       "      <td>region_19</td>\n",
       "      <td>Bachelor's</td>\n",
       "      <td>m</td>\n",
       "      <td>sourcing</td>\n",
       "      <td>1</td>\n",
       "      <td>34</td>\n",
       "      <td>3.0</td>\n",
       "      <td>7</td>\n",
       "      <td>0</td>\n",
       "      <td>50</td>\n",
       "      <td>0</td>\n",
       "    </tr>\n",
       "    <tr>\n",
       "      <th>3</th>\n",
       "      <td>2542</td>\n",
       "      <td>Sales &amp; Marketing</td>\n",
       "      <td>region_23</td>\n",
       "      <td>Bachelor's</td>\n",
       "      <td>m</td>\n",
       "      <td>other</td>\n",
       "      <td>2</td>\n",
       "      <td>39</td>\n",
       "      <td>1.0</td>\n",
       "      <td>10</td>\n",
       "      <td>0</td>\n",
       "      <td>50</td>\n",
       "      <td>0</td>\n",
       "    </tr>\n",
       "    <tr>\n",
       "      <th>4</th>\n",
       "      <td>48945</td>\n",
       "      <td>Technology</td>\n",
       "      <td>region_26</td>\n",
       "      <td>Bachelor's</td>\n",
       "      <td>m</td>\n",
       "      <td>other</td>\n",
       "      <td>1</td>\n",
       "      <td>45</td>\n",
       "      <td>3.0</td>\n",
       "      <td>2</td>\n",
       "      <td>0</td>\n",
       "      <td>73</td>\n",
       "      <td>0</td>\n",
       "    </tr>\n",
       "  </tbody>\n",
       "</table>\n",
       "</div>"
      ],
      "text/plain": [
       "   employee_id         department     region         education gender  \\\n",
       "0        65438  Sales & Marketing   region_7  Master's & above      f   \n",
       "1        65141         Operations  region_22        Bachelor's      m   \n",
       "2         7513  Sales & Marketing  region_19        Bachelor's      m   \n",
       "3         2542  Sales & Marketing  region_23        Bachelor's      m   \n",
       "4        48945         Technology  region_26        Bachelor's      m   \n",
       "\n",
       "  recruitment_channel  no_of_trainings  age  previous_year_rating  \\\n",
       "0            sourcing                1   35                   5.0   \n",
       "1               other                1   30                   5.0   \n",
       "2            sourcing                1   34                   3.0   \n",
       "3               other                2   39                   1.0   \n",
       "4               other                1   45                   3.0   \n",
       "\n",
       "   length_of_service  awards_won  avg_training_score  is_promoted  \n",
       "0                  8           0                  49            0  \n",
       "1                  4           0                  60            0  \n",
       "2                  7           0                  50            0  \n",
       "3                 10           0                  50            0  \n",
       "4                  2           0                  73            0  "
      ]
     },
     "execution_count": 9,
     "metadata": {},
     "output_type": "execute_result"
    }
   ],
   "source": [
    "df = df.rename(columns = {'awards_won?': 'awards_won'}, inplace = False) #Colm's name changed\n",
    "df.head()"
   ]
  },
  {
   "cell_type": "code",
   "execution_count": 10,
   "id": "8f04b0e3",
   "metadata": {
    "id": "8f04b0e3"
   },
   "outputs": [],
   "source": [
    "# Draw a hook with each column\n",
    "def bar_chart(feature):\n",
    "    promoted = df[df['is_promoted']==1][feature].value_counts()\n",
    "    no_promoted = df[df['is_promoted']==0][feature].value_counts()\n",
    "    df1 = pd.DataFrame([promoted,no_promoted])\n",
    "    df1.index = ['promoted','no_promoted']\n",
    "    df1.plot(kind='bar',stacked=True, figsize=(10,5))"
   ]
  },
  {
   "cell_type": "code",
   "execution_count": 11,
   "id": "be419212",
   "metadata": {
    "colab": {
     "base_uri": "https://localhost:8080/",
     "height": 378
    },
    "id": "be419212",
    "outputId": "d33bd646-ee37-4a0f-e89b-be96361e7dab"
   },
   "outputs": [
    {
     "data": {
      "image/png": "[encoded data removed]",
      "text/plain": [
       "<Figure size 720x360 with 1 Axes>"
      ]
     },
     "metadata": {
      "needs_background": "light"
     },
     "output_type": "display_data"
    }
   ],
   "source": [
    "bar_chart(\"department\")"
   ]
  },
  {
   "cell_type": "code",
   "execution_count": 12,
   "id": "79d823f3",
   "metadata": {
    "colab": {
     "base_uri": "https://localhost:8080/",
     "height": 378
    },
    "id": "79d823f3",
    "outputId": "e5a9650f-1c80-4222-be32-06ebda3a3f49"
   },
   "outputs": [
    {
     "data": {
      "image/png": "[encoded data removed]",
      "text/plain": [
       "<Figure size 720x360 with 1 Axes>"
      ]
     },
     "metadata": {
      "needs_background": "light"
     },
     "output_type": "display_data"
    }
   ],
   "source": [
    "bar_chart(\"education\")"
   ]
  },
  {
   "cell_type": "code",
   "execution_count": 13,
   "id": "eba39b0a",
   "metadata": {
    "colab": {
     "base_uri": "https://localhost:8080/",
     "height": 378
    },
    "id": "eba39b0a",
    "outputId": "0905b76e-741a-4273-869b-1e90690927a2"
   },
   "outputs": [
    {
     "data": {
      "image/png": "[encoded data removed]",
      "text/plain": [
       "<Figure size 720x360 with 1 Axes>"
      ]
     },
     "metadata": {
      "needs_background": "light"
     },
     "output_type": "display_data"
    }
   ],
   "source": [
    "bar_chart(\"previous_year_rating\")"
   ]
  },
  {
   "cell_type": "code",
   "execution_count": 14,
   "id": "4bc5e81b",
   "metadata": {
    "colab": {
     "base_uri": "https://localhost:8080/",
     "height": 378
    },
    "id": "4bc5e81b",
    "outputId": "fa54685b-e7bd-4204-eb80-99370eacf9de"
   },
   "outputs": [
    {
     "data": {
      "image/png": "[encoded data removed]",
      "text/plain": [
       "<Figure size 720x360 with 1 Axes>"
      ]
     },
     "metadata": {
      "needs_background": "light"
     },
     "output_type": "display_data"
    }
   ],
   "source": [
    "bar_chart(\"awards_won\")"
   ]
  },
  {
   "cell_type": "code",
   "execution_count": 15,
   "id": "a2cf498e",
   "metadata": {
    "id": "a2cf498e"
   },
   "outputs": [],
   "source": [
    "#Create a new column\n",
    "df[\"department_N\"]=df.department\n",
    "df[\"education_N\"]=df.education\n",
    "df[\"gender_N\"]=df.gender"
   ]
  },
  {
   "cell_type": "markdown",
   "id": "8092b909",
   "metadata": {
    "id": "8092b909"
   },
   "source": [
    "# preprocessing"
   ]
  },
  {
   "cell_type": "code",
   "execution_count": 16,
   "id": "ee213d95",
   "metadata": {
    "id": "ee213d95"
   },
   "outputs": [],
   "source": [
    "# Convert colum from string to number \n",
    "le = preprocessing.LabelEncoder()\n",
    "df['department_N']= le.fit_transform(df.department.values)\n",
    "df['education_N']= le.fit_transform(df.education.values)\n",
    "df['gender_N']= le.fit_transform(df.gender.values)"
   ]
  },
  {
   "cell_type": "code",
   "execution_count": 17,
   "id": "1f39cf11",
   "metadata": {
    "colab": {
     "base_uri": "https://localhost:8080/",
     "height": 531
    },
    "id": "1f39cf11",
    "outputId": "e28209bc-11b5-4570-cac5-a511c7768001"
   },
   "outputs": [
    {
     "data": {
      "text/html": [
       "<div>\n",
       "<style scoped>\n",
       "    .dataframe tbody tr th:only-of-type {\n",
       "        vertical-align: middle;\n",
       "    }\n",
       "\n",
       "    .dataframe tbody tr th {\n",
       "        vertical-align: top;\n",
       "    }\n",
       "\n",
       "    .dataframe thead th {\n",
       "        text-align: right;\n",
       "    }\n",
       "</style>\n",
       "<table border=\"1\" class=\"dataframe\">\n",
       "  <thead>\n",
       "    <tr style=\"text-align: right;\">\n",
       "      <th></th>\n",
       "      <th>employee_id</th>\n",
       "      <th>department</th>\n",
       "      <th>region</th>\n",
       "      <th>education</th>\n",
       "      <th>gender</th>\n",
       "      <th>recruitment_channel</th>\n",
       "      <th>no_of_trainings</th>\n",
       "      <th>age</th>\n",
       "      <th>previous_year_rating</th>\n",
       "      <th>length_of_service</th>\n",
       "      <th>awards_won</th>\n",
       "      <th>avg_training_score</th>\n",
       "      <th>is_promoted</th>\n",
       "      <th>department_N</th>\n",
       "      <th>education_N</th>\n",
       "      <th>gender_N</th>\n",
       "    </tr>\n",
       "  </thead>\n",
       "  <tbody>\n",
       "    <tr>\n",
       "      <th>0</th>\n",
       "      <td>65438</td>\n",
       "      <td>Sales &amp; Marketing</td>\n",
       "      <td>region_7</td>\n",
       "      <td>Master's &amp; above</td>\n",
       "      <td>f</td>\n",
       "      <td>sourcing</td>\n",
       "      <td>1</td>\n",
       "      <td>35</td>\n",
       "      <td>5.0</td>\n",
       "      <td>8</td>\n",
       "      <td>0</td>\n",
       "      <td>49</td>\n",
       "      <td>0</td>\n",
       "      <td>7</td>\n",
       "      <td>2</td>\n",
       "      <td>0</td>\n",
       "    </tr>\n",
       "    <tr>\n",
       "      <th>1</th>\n",
       "      <td>65141</td>\n",
       "      <td>Operations</td>\n",
       "      <td>region_22</td>\n",
       "      <td>Bachelor's</td>\n",
       "      <td>m</td>\n",
       "      <td>other</td>\n",
       "      <td>1</td>\n",
       "      <td>30</td>\n",
       "      <td>5.0</td>\n",
       "      <td>4</td>\n",
       "      <td>0</td>\n",
       "      <td>60</td>\n",
       "      <td>0</td>\n",
       "      <td>4</td>\n",
       "      <td>0</td>\n",
       "      <td>1</td>\n",
       "    </tr>\n",
       "    <tr>\n",
       "      <th>2</th>\n",
       "      <td>7513</td>\n",
       "      <td>Sales &amp; Marketing</td>\n",
       "      <td>region_19</td>\n",
       "      <td>Bachelor's</td>\n",
       "      <td>m</td>\n",
       "      <td>sourcing</td>\n",
       "      <td>1</td>\n",
       "      <td>34</td>\n",
       "      <td>3.0</td>\n",
       "      <td>7</td>\n",
       "      <td>0</td>\n",
       "      <td>50</td>\n",
       "      <td>0</td>\n",
       "      <td>7</td>\n",
       "      <td>0</td>\n",
       "      <td>1</td>\n",
       "    </tr>\n",
       "    <tr>\n",
       "      <th>3</th>\n",
       "      <td>2542</td>\n",
       "      <td>Sales &amp; Marketing</td>\n",
       "      <td>region_23</td>\n",
       "      <td>Bachelor's</td>\n",
       "      <td>m</td>\n",
       "      <td>other</td>\n",
       "      <td>2</td>\n",
       "      <td>39</td>\n",
       "      <td>1.0</td>\n",
       "      <td>10</td>\n",
       "      <td>0</td>\n",
       "      <td>50</td>\n",
       "      <td>0</td>\n",
       "      <td>7</td>\n",
       "      <td>0</td>\n",
       "      <td>1</td>\n",
       "    </tr>\n",
       "    <tr>\n",
       "      <th>4</th>\n",
       "      <td>48945</td>\n",
       "      <td>Technology</td>\n",
       "      <td>region_26</td>\n",
       "      <td>Bachelor's</td>\n",
       "      <td>m</td>\n",
       "      <td>other</td>\n",
       "      <td>1</td>\n",
       "      <td>45</td>\n",
       "      <td>3.0</td>\n",
       "      <td>2</td>\n",
       "      <td>0</td>\n",
       "      <td>73</td>\n",
       "      <td>0</td>\n",
       "      <td>8</td>\n",
       "      <td>0</td>\n",
       "      <td>1</td>\n",
       "    </tr>\n",
       "    <tr>\n",
       "      <th>...</th>\n",
       "      <td>...</td>\n",
       "      <td>...</td>\n",
       "      <td>...</td>\n",
       "      <td>...</td>\n",
       "      <td>...</td>\n",
       "      <td>...</td>\n",
       "      <td>...</td>\n",
       "      <td>...</td>\n",
       "      <td>...</td>\n",
       "      <td>...</td>\n",
       "      <td>...</td>\n",
       "      <td>...</td>\n",
       "      <td>...</td>\n",
       "      <td>...</td>\n",
       "      <td>...</td>\n",
       "      <td>...</td>\n",
       "    </tr>\n",
       "    <tr>\n",
       "      <th>54802</th>\n",
       "      <td>6915</td>\n",
       "      <td>Sales &amp; Marketing</td>\n",
       "      <td>region_14</td>\n",
       "      <td>Bachelor's</td>\n",
       "      <td>m</td>\n",
       "      <td>other</td>\n",
       "      <td>2</td>\n",
       "      <td>31</td>\n",
       "      <td>1.0</td>\n",
       "      <td>2</td>\n",
       "      <td>0</td>\n",
       "      <td>49</td>\n",
       "      <td>0</td>\n",
       "      <td>7</td>\n",
       "      <td>0</td>\n",
       "      <td>1</td>\n",
       "    </tr>\n",
       "    <tr>\n",
       "      <th>54803</th>\n",
       "      <td>3030</td>\n",
       "      <td>Technology</td>\n",
       "      <td>region_14</td>\n",
       "      <td>Bachelor's</td>\n",
       "      <td>m</td>\n",
       "      <td>sourcing</td>\n",
       "      <td>1</td>\n",
       "      <td>48</td>\n",
       "      <td>3.0</td>\n",
       "      <td>17</td>\n",
       "      <td>0</td>\n",
       "      <td>78</td>\n",
       "      <td>0</td>\n",
       "      <td>8</td>\n",
       "      <td>0</td>\n",
       "      <td>1</td>\n",
       "    </tr>\n",
       "    <tr>\n",
       "      <th>54804</th>\n",
       "      <td>74592</td>\n",
       "      <td>Operations</td>\n",
       "      <td>region_27</td>\n",
       "      <td>Master's &amp; above</td>\n",
       "      <td>f</td>\n",
       "      <td>other</td>\n",
       "      <td>1</td>\n",
       "      <td>37</td>\n",
       "      <td>2.0</td>\n",
       "      <td>6</td>\n",
       "      <td>0</td>\n",
       "      <td>56</td>\n",
       "      <td>0</td>\n",
       "      <td>4</td>\n",
       "      <td>2</td>\n",
       "      <td>0</td>\n",
       "    </tr>\n",
       "    <tr>\n",
       "      <th>54805</th>\n",
       "      <td>13918</td>\n",
       "      <td>Analytics</td>\n",
       "      <td>region_1</td>\n",
       "      <td>Bachelor's</td>\n",
       "      <td>m</td>\n",
       "      <td>other</td>\n",
       "      <td>1</td>\n",
       "      <td>27</td>\n",
       "      <td>5.0</td>\n",
       "      <td>3</td>\n",
       "      <td>0</td>\n",
       "      <td>79</td>\n",
       "      <td>0</td>\n",
       "      <td>0</td>\n",
       "      <td>0</td>\n",
       "      <td>1</td>\n",
       "    </tr>\n",
       "    <tr>\n",
       "      <th>54807</th>\n",
       "      <td>51526</td>\n",
       "      <td>HR</td>\n",
       "      <td>region_22</td>\n",
       "      <td>Bachelor's</td>\n",
       "      <td>m</td>\n",
       "      <td>other</td>\n",
       "      <td>1</td>\n",
       "      <td>27</td>\n",
       "      <td>1.0</td>\n",
       "      <td>5</td>\n",
       "      <td>0</td>\n",
       "      <td>49</td>\n",
       "      <td>0</td>\n",
       "      <td>2</td>\n",
       "      <td>0</td>\n",
       "      <td>1</td>\n",
       "    </tr>\n",
       "  </tbody>\n",
       "</table>\n",
       "<p>52399 rows × 16 columns</p>\n",
       "</div>"
      ],
      "text/plain": [
       "       employee_id         department     region         education gender  \\\n",
       "0            65438  Sales & Marketing   region_7  Master's & above      f   \n",
       "1            65141         Operations  region_22        Bachelor's      m   \n",
       "2             7513  Sales & Marketing  region_19        Bachelor's      m   \n",
       "3             2542  Sales & Marketing  region_23        Bachelor's      m   \n",
       "4            48945         Technology  region_26        Bachelor's      m   \n",
       "...            ...                ...        ...               ...    ...   \n",
       "54802         6915  Sales & Marketing  region_14        Bachelor's      m   \n",
       "54803         3030         Technology  region_14        Bachelor's      m   \n",
       "54804        74592         Operations  region_27  Master's & above      f   \n",
       "54805        13918          Analytics   region_1        Bachelor's      m   \n",
       "54807        51526                 HR  region_22        Bachelor's      m   \n",
       "\n",
       "      recruitment_channel  no_of_trainings  age  previous_year_rating  \\\n",
       "0                sourcing                1   35                   5.0   \n",
       "1                   other                1   30                   5.0   \n",
       "2                sourcing                1   34                   3.0   \n",
       "3                   other                2   39                   1.0   \n",
       "4                   other                1   45                   3.0   \n",
       "...                   ...              ...  ...                   ...   \n",
       "54802               other                2   31                   1.0   \n",
       "54803            sourcing                1   48                   3.0   \n",
       "54804               other                1   37                   2.0   \n",
       "54805               other                1   27                   5.0   \n",
       "54807               other                1   27                   1.0   \n",
       "\n",
       "       length_of_service  awards_won  avg_training_score  is_promoted  \\\n",
       "0                      8           0                  49            0   \n",
       "1                      4           0                  60            0   \n",
       "2                      7           0                  50            0   \n",
       "3                     10           0                  50            0   \n",
       "4                      2           0                  73            0   \n",
       "...                  ...         ...                 ...          ...   \n",
       "54802                  2           0                  49            0   \n",
       "54803                 17           0                  78            0   \n",
       "54804                  6           0                  56            0   \n",
       "54805                  3           0                  79            0   \n",
       "54807                  5           0                  49            0   \n",
       "\n",
       "       department_N  education_N  gender_N  \n",
       "0                 7            2         0  \n",
       "1                 4            0         1  \n",
       "2                 7            0         1  \n",
       "3                 7            0         1  \n",
       "4                 8            0         1  \n",
       "...             ...          ...       ...  \n",
       "54802             7            0         1  \n",
       "54803             8            0         1  \n",
       "54804             4            2         0  \n",
       "54805             0            0         1  \n",
       "54807             2            0         1  \n",
       "\n",
       "[52399 rows x 16 columns]"
      ]
     },
     "execution_count": 17,
     "metadata": {},
     "output_type": "execute_result"
    }
   ],
   "source": [
    "df"
   ]
  },
  {
   "cell_type": "code",
   "execution_count": 18,
   "id": "8d34baf5",
   "metadata": {
    "id": "8d34baf5"
   },
   "outputs": [],
   "source": [
    "df1=df.copy()"
   ]
  },
  {
   "cell_type": "code",
   "execution_count": 19,
   "id": "46bb04cb",
   "metadata": {
    "id": "46bb04cb"
   },
   "outputs": [],
   "source": [
    "# delete colum\n",
    "df1.drop(columns=\"department\",inplace=True)\n",
    "df1.drop(columns=\"region\",inplace=True)\n",
    "df1.drop(columns=\"education\",inplace=True)\n",
    "df1.drop(columns=\"gender\",inplace=True)\n",
    "df1.drop(columns=\"recruitment_channel\",inplace=True)\n",
    "df1.drop(columns=['employee_id'],inplace=True)"
   ]
  },
  {
   "cell_type": "code",
   "execution_count": 20,
   "id": "e5d664ef",
   "metadata": {
    "colab": {
     "base_uri": "https://localhost:8080/",
     "height": 443
    },
    "id": "e5d664ef",
    "outputId": "a6a1a644-2292-4d31-9017-8143238b68d4"
   },
   "outputs": [
    {
     "data": {
      "text/html": [
       "<div>\n",
       "<style scoped>\n",
       "    .dataframe tbody tr th:only-of-type {\n",
       "        vertical-align: middle;\n",
       "    }\n",
       "\n",
       "    .dataframe tbody tr th {\n",
       "        vertical-align: top;\n",
       "    }\n",
       "\n",
       "    .dataframe thead th {\n",
       "        text-align: right;\n",
       "    }\n",
       "</style>\n",
       "<table border=\"1\" class=\"dataframe\">\n",
       "  <thead>\n",
       "    <tr style=\"text-align: right;\">\n",
       "      <th></th>\n",
       "      <th>no_of_trainings</th>\n",
       "      <th>age</th>\n",
       "      <th>previous_year_rating</th>\n",
       "      <th>length_of_service</th>\n",
       "      <th>awards_won</th>\n",
       "      <th>avg_training_score</th>\n",
       "      <th>is_promoted</th>\n",
       "      <th>department_N</th>\n",
       "      <th>education_N</th>\n",
       "      <th>gender_N</th>\n",
       "    </tr>\n",
       "  </thead>\n",
       "  <tbody>\n",
       "    <tr>\n",
       "      <th>0</th>\n",
       "      <td>1</td>\n",
       "      <td>35</td>\n",
       "      <td>5.0</td>\n",
       "      <td>8</td>\n",
       "      <td>0</td>\n",
       "      <td>49</td>\n",
       "      <td>0</td>\n",
       "      <td>7</td>\n",
       "      <td>2</td>\n",
       "      <td>0</td>\n",
       "    </tr>\n",
       "    <tr>\n",
       "      <th>1</th>\n",
       "      <td>1</td>\n",
       "      <td>30</td>\n",
       "      <td>5.0</td>\n",
       "      <td>4</td>\n",
       "      <td>0</td>\n",
       "      <td>60</td>\n",
       "      <td>0</td>\n",
       "      <td>4</td>\n",
       "      <td>0</td>\n",
       "      <td>1</td>\n",
       "    </tr>\n",
       "    <tr>\n",
       "      <th>2</th>\n",
       "      <td>1</td>\n",
       "      <td>34</td>\n",
       "      <td>3.0</td>\n",
       "      <td>7</td>\n",
       "      <td>0</td>\n",
       "      <td>50</td>\n",
       "      <td>0</td>\n",
       "      <td>7</td>\n",
       "      <td>0</td>\n",
       "      <td>1</td>\n",
       "    </tr>\n",
       "    <tr>\n",
       "      <th>3</th>\n",
       "      <td>2</td>\n",
       "      <td>39</td>\n",
       "      <td>1.0</td>\n",
       "      <td>10</td>\n",
       "      <td>0</td>\n",
       "      <td>50</td>\n",
       "      <td>0</td>\n",
       "      <td>7</td>\n",
       "      <td>0</td>\n",
       "      <td>1</td>\n",
       "    </tr>\n",
       "    <tr>\n",
       "      <th>4</th>\n",
       "      <td>1</td>\n",
       "      <td>45</td>\n",
       "      <td>3.0</td>\n",
       "      <td>2</td>\n",
       "      <td>0</td>\n",
       "      <td>73</td>\n",
       "      <td>0</td>\n",
       "      <td>8</td>\n",
       "      <td>0</td>\n",
       "      <td>1</td>\n",
       "    </tr>\n",
       "    <tr>\n",
       "      <th>...</th>\n",
       "      <td>...</td>\n",
       "      <td>...</td>\n",
       "      <td>...</td>\n",
       "      <td>...</td>\n",
       "      <td>...</td>\n",
       "      <td>...</td>\n",
       "      <td>...</td>\n",
       "      <td>...</td>\n",
       "      <td>...</td>\n",
       "      <td>...</td>\n",
       "    </tr>\n",
       "    <tr>\n",
       "      <th>54802</th>\n",
       "      <td>2</td>\n",
       "      <td>31</td>\n",
       "      <td>1.0</td>\n",
       "      <td>2</td>\n",
       "      <td>0</td>\n",
       "      <td>49</td>\n",
       "      <td>0</td>\n",
       "      <td>7</td>\n",
       "      <td>0</td>\n",
       "      <td>1</td>\n",
       "    </tr>\n",
       "    <tr>\n",
       "      <th>54803</th>\n",
       "      <td>1</td>\n",
       "      <td>48</td>\n",
       "      <td>3.0</td>\n",
       "      <td>17</td>\n",
       "      <td>0</td>\n",
       "      <td>78</td>\n",
       "      <td>0</td>\n",
       "      <td>8</td>\n",
       "      <td>0</td>\n",
       "      <td>1</td>\n",
       "    </tr>\n",
       "    <tr>\n",
       "      <th>54804</th>\n",
       "      <td>1</td>\n",
       "      <td>37</td>\n",
       "      <td>2.0</td>\n",
       "      <td>6</td>\n",
       "      <td>0</td>\n",
       "      <td>56</td>\n",
       "      <td>0</td>\n",
       "      <td>4</td>\n",
       "      <td>2</td>\n",
       "      <td>0</td>\n",
       "    </tr>\n",
       "    <tr>\n",
       "      <th>54805</th>\n",
       "      <td>1</td>\n",
       "      <td>27</td>\n",
       "      <td>5.0</td>\n",
       "      <td>3</td>\n",
       "      <td>0</td>\n",
       "      <td>79</td>\n",
       "      <td>0</td>\n",
       "      <td>0</td>\n",
       "      <td>0</td>\n",
       "      <td>1</td>\n",
       "    </tr>\n",
       "    <tr>\n",
       "      <th>54807</th>\n",
       "      <td>1</td>\n",
       "      <td>27</td>\n",
       "      <td>1.0</td>\n",
       "      <td>5</td>\n",
       "      <td>0</td>\n",
       "      <td>49</td>\n",
       "      <td>0</td>\n",
       "      <td>2</td>\n",
       "      <td>0</td>\n",
       "      <td>1</td>\n",
       "    </tr>\n",
       "  </tbody>\n",
       "</table>\n",
       "<p>52399 rows × 10 columns</p>\n",
       "</div>"
      ],
      "text/plain": [
       "       no_of_trainings  age  previous_year_rating  length_of_service  \\\n",
       "0                    1   35                   5.0                  8   \n",
       "1                    1   30                   5.0                  4   \n",
       "2                    1   34                   3.0                  7   \n",
       "3                    2   39                   1.0                 10   \n",
       "4                    1   45                   3.0                  2   \n",
       "...                ...  ...                   ...                ...   \n",
       "54802                2   31                   1.0                  2   \n",
       "54803                1   48                   3.0                 17   \n",
       "54804                1   37                   2.0                  6   \n",
       "54805                1   27                   5.0                  3   \n",
       "54807                1   27                   1.0                  5   \n",
       "\n",
       "       awards_won  avg_training_score  is_promoted  department_N  education_N  \\\n",
       "0               0                  49            0             7            2   \n",
       "1               0                  60            0             4            0   \n",
       "2               0                  50            0             7            0   \n",
       "3               0                  50            0             7            0   \n",
       "4               0                  73            0             8            0   \n",
       "...           ...                 ...          ...           ...          ...   \n",
       "54802           0                  49            0             7            0   \n",
       "54803           0                  78            0             8            0   \n",
       "54804           0                  56            0             4            2   \n",
       "54805           0                  79            0             0            0   \n",
       "54807           0                  49            0             2            0   \n",
       "\n",
       "       gender_N  \n",
       "0             0  \n",
       "1             1  \n",
       "2             1  \n",
       "3             1  \n",
       "4             1  \n",
       "...         ...  \n",
       "54802         1  \n",
       "54803         1  \n",
       "54804         0  \n",
       "54805         1  \n",
       "54807         1  \n",
       "\n",
       "[52399 rows x 10 columns]"
      ]
     },
     "execution_count": 20,
     "metadata": {},
     "output_type": "execute_result"
    }
   ],
   "source": [
    "df1"
   ]
  },
  {
   "cell_type": "code",
   "execution_count": 21,
   "id": "20a97d75",
   "metadata": {
    "colab": {
     "base_uri": "https://localhost:8080/"
    },
    "id": "20a97d75",
    "outputId": "f0fc400d-13c8-4004-f9fb-81c8655b627c"
   },
   "outputs": [
    {
     "name": "stdout",
     "output_type": "stream",
     "text": [
      "<class 'pandas.core.frame.DataFrame'>\n",
      "Int64Index: 52399 entries, 0 to 54807\n",
      "Data columns (total 10 columns):\n",
      " #   Column                Non-Null Count  Dtype  \n",
      "---  ------                --------------  -----  \n",
      " 0   no_of_trainings       52399 non-null  int64  \n",
      " 1   age                   52399 non-null  int64  \n",
      " 2   previous_year_rating  52399 non-null  float64\n",
      " 3   length_of_service     52399 non-null  int64  \n",
      " 4   awards_won            52399 non-null  int64  \n",
      " 5   avg_training_score    52399 non-null  int64  \n",
      " 6   is_promoted           52399 non-null  int64  \n",
      " 7   department_N          52399 non-null  int32  \n",
      " 8   education_N           52399 non-null  int32  \n",
      " 9   gender_N              52399 non-null  int32  \n",
      "dtypes: float64(1), int32(3), int64(6)\n",
      "memory usage: 3.8 MB\n"
     ]
    }
   ],
   "source": [
    "df1.info()"
   ]
  },
  {
   "cell_type": "code",
   "execution_count": 22,
   "id": "21c7c18a",
   "metadata": {
    "id": "21c7c18a"
   },
   "outputs": [],
   "source": [
    "# data splitting\n",
    "B=df1.drop(\"is_promoted\" ,axis =1)#Feature\n",
    "A=df1[\"is_promoted\"]#Target"
   ]
  },
  {
   "cell_type": "code",
   "execution_count": 23,
   "id": "9fb11419",
   "metadata": {
    "id": "9fb11419"
   },
   "outputs": [],
   "source": [
    "B_train_val, B_test, A_train_val, A_test = train_test_split(B, A, test_size=0.2,random_state=42)\n",
    "B_train, B_val, A_train, A_val = train_test_split(B_train_val, A_train_val, test_size=.25, random_state=43)"
   ]
  },
  {
   "cell_type": "code",
   "execution_count": 24,
   "id": "5734593d",
   "metadata": {
    "colab": {
     "base_uri": "https://localhost:8080/"
    },
    "id": "5734593d",
    "outputId": "d9c1ebf8-3056-4cc4-a22f-9c671af533c2"
   },
   "outputs": [
    {
     "name": "stdout",
     "output_type": "stream",
     "text": [
      "Shape of B Train Dataset:  (31439, 9)\n",
      "Shape of A Train Dataset:  (31439,)\n",
      "Shape of A val Dataset:  (10480,)\n",
      "Shape of B val Dataset:  (10480, 9)\n",
      "Shape of B test Dataset:  (10480, 9)\n",
      "Shape of A test Dataset:  (10480,)\n"
     ]
    }
   ],
   "source": [
    "print(\"Shape of B Train Dataset: \",B_train.shape)\n",
    "print(\"Shape of A Train Dataset: \", A_train.shape)\n",
    "print(\"Shape of A val Dataset: \", A_val.shape)\n",
    "print(\"Shape of B val Dataset: \",B_val.shape)\n",
    "print(\"Shape of B test Dataset: \",B_test.shape)\n",
    "print(\"Shape of A test Dataset: \",A_test.shape)"
   ]
  },
  {
   "cell_type": "code",
   "execution_count": 25,
   "id": "da7c0dcd",
   "metadata": {
    "colab": {
     "base_uri": "https://localhost:8080/",
     "height": 264
    },
    "id": "da7c0dcd",
    "outputId": "8dd09735-d085-4fe5-f257-47b2d9b3124c"
   },
   "outputs": [
    {
     "data": {
      "image/png": "[encoded data removed]",
      "text/plain": [
       "<Figure size 432x288 with 1 Axes>"
      ]
     },
     "metadata": {},
     "output_type": "display_data"
    }
   ],
   "source": [
    "# solving a balance problem\n",
    "from imblearn.over_sampling import RandomOverSampler\n",
    "ros = RandomOverSampler(sampling_strategy=\"not majority\") \n",
    "B_train, A_train= ros.fit_resample(B_train, A_train)\n",
    "ax = A_train.value_counts().plot.pie(autopct='%.2f')\n",
    "ax = ax.set_title(\"imbalanced \")"
   ]
  },
  {
   "cell_type": "markdown",
   "id": "012e47c9",
   "metadata": {
    "id": "012e47c9"
   },
   "source": [
    "# Scaler"
   ]
  },
  {
   "cell_type": "markdown",
   "id": "da29c4a7",
   "metadata": {
    "id": "da29c4a7"
   },
   "source": [
    "from sklearn.preprocessing import StandardScaler"
   ]
  },
  {
   "cell_type": "markdown",
   "id": "86cdf9cc",
   "metadata": {
    "id": "86cdf9cc"
   },
   "source": [
    "SC=StandardScaler()"
   ]
  },
  {
   "cell_type": "markdown",
   "id": "1c505a26",
   "metadata": {
    "id": "1c505a26"
   },
   "source": [
    "B_train_s = SC.fit_transform(B_train)"
   ]
  },
  {
   "cell_type": "markdown",
   "id": "4b7d035d",
   "metadata": {
    "id": "4b7d035d"
   },
   "source": [
    "A_test_s = SC.fit_transform(A_test)"
   ]
  },
  {
   "cell_type": "markdown",
   "id": "607efef7",
   "metadata": {
    "id": "607efef7"
   },
   "source": [
    "# models with all the fatchars"
   ]
  },
  {
   "cell_type": "markdown",
   "id": "bf887c90",
   "metadata": {
    "id": "bf887c90"
   },
   "source": [
    "# GridSearchCV   k-nearest neighbors vote"
   ]
  },
  {
   "cell_type": "code",
   "execution_count": 26,
   "id": "e3564a75",
   "metadata": {
    "colab": {
     "base_uri": "https://localhost:8080/"
    },
    "id": "e3564a75",
    "outputId": "aee5ff2b-d36f-4a28-cbbb-d1b2da656d2e"
   },
   "outputs": [
    {
     "name": "stdout",
     "output_type": "stream",
     "text": [
      "[1, 2, 3, 4, 5, 6, 7, 8, 9, 10, 11, 12, 13, 14, 15, 16, 17, 18, 19, 20, 21, 22, 23, 24, 25, 26, 27, 28, 29, 30]\n"
     ]
    }
   ],
   "source": [
    "k2_range=list(range(1,31))\n",
    "print(k2_range)"
   ]
  },
  {
   "cell_type": "code",
   "execution_count": 27,
   "id": "8adc37ae",
   "metadata": {
    "colab": {
     "base_uri": "https://localhost:8080/"
    },
    "id": "8adc37ae",
    "outputId": "b3c7007f-3744-44fc-e559-675a1afb55f2"
   },
   "outputs": [
    {
     "name": "stdout",
     "output_type": "stream",
     "text": [
      "{'n_neighbors': [1, 2, 3, 4, 5, 6, 7, 8, 9, 10, 11, 12, 13, 14, 15, 16, 17, 18, 19, 20, 21, 22, 23, 24, 25, 26, 27, 28, 29, 30]}\n"
     ]
    }
   ],
   "source": [
    "param_grid2=dict(n_neighbors=k2_range)\n",
    "print(param_grid2)"
   ]
  },
  {
   "cell_type": "code",
   "execution_count": 28,
   "id": "4625068c",
   "metadata": {
    "colab": {
     "base_uri": "https://localhost:8080/"
    },
    "id": "4625068c",
    "outputId": "4330e3f0-7396-43b9-dc2c-ccd9df15b5bb"
   },
   "outputs": [
    {
     "data": {
      "text/plain": [
       "GridSearchCV(cv=5, estimator=KNeighborsClassifier(),\n",
       "             param_grid={'n_neighbors': [1, 2, 3, 4, 5, 6, 7, 8, 9, 10, 11, 12,\n",
       "                                         13, 14, 15, 16, 17, 18, 19, 20, 21, 22,\n",
       "                                         23, 24, 25, 26, 27, 28, 29, 30]},\n",
       "             scoring='recall')"
      ]
     },
     "execution_count": 28,
     "metadata": {},
     "output_type": "execute_result"
    }
   ],
   "source": [
    "knn2=KNeighborsClassifier()\n",
    "grid2 = GridSearchCV(knn2, param_grid2, cv=5, scoring='recall')\n",
    "grid2.fit(B_train,A_train)"
   ]
  },
  {
   "cell_type": "code",
   "execution_count": 29,
   "id": "d5b94a31",
   "metadata": {
    "colab": {
     "base_uri": "https://localhost:8080/"
    },
    "id": "d5b94a31",
    "outputId": "c869bad2-9447-4ba3-9a5f-9584c309365b"
   },
   "outputs": [
    {
     "data": {
      "text/plain": [
       "{'n_neighbors': 3}"
      ]
     },
     "execution_count": 29,
     "metadata": {},
     "output_type": "execute_result"
    }
   ],
   "source": [
    "grid2.best_params_"
   ]
  },
  {
   "cell_type": "markdown",
   "id": "70360315",
   "metadata": {
    "id": "70360315"
   },
   "source": [
    "#  k-nearest neighbors vote"
   ]
  },
  {
   "cell_type": "code",
   "execution_count": 30,
   "id": "eae75485",
   "metadata": {
    "id": "eae75485"
   },
   "outputs": [],
   "source": [
    "clk_2 =KNeighborsClassifier(n_neighbors=5)\n",
    "clk_2.fit(B_train,A_train)\n",
    "A_perv1 = clk_2.predict(B_val)\n",
    "A_pert = clk_2.predict(B_test)"
   ]
  },
  {
   "cell_type": "code",
   "execution_count": 116,
   "id": "V7EJC1P5z_Jq",
   "metadata": {
    "colab": {
     "base_uri": "https://localhost:8080/"
    },
    "id": "V7EJC1P5z_Jq",
    "outputId": "04656b10-abf9-405f-ea93-44e17b1c7743"
   },
   "outputs": [
    {
     "name": "stdout",
     "output_type": "stream",
     "text": [
      "[[7860 1749]\n",
      " [ 480  391]]\n",
      "KNN  Accuracy =  78.73091603053435\n",
      "KNN  Precision =  18.27102803738318\n",
      "KNN  Recall =  44.89092996555683\n",
      "KNN F1 score=  25.971438060445035\n",
      "              precision    recall  f1-score   support\n",
      "\n",
      "           0       0.94      0.82      0.88      9609\n",
      "           1       0.18      0.45      0.26       871\n",
      "\n",
      "    accuracy                           0.79     10480\n",
      "   macro avg       0.56      0.63      0.57     10480\n",
      "weighted avg       0.88      0.79      0.82     10480\n",
      "\n"
     ]
    }
   ],
   "source": [
    "cf_matrix_val2 = metrics.confusion_matrix(A_val, A_perv1)\n",
    "print(cf_matrix_val2)\n",
    "#accuracy on knn\n",
    "accuracy_test2 = metrics.accuracy_score(A_val, A_perv1)\n",
    "print ('KNN  Accuracy = ', accuracy_test2 * 100)\n",
    "#precision on knn\n",
    "Precision_test2 = metrics.precision_score(A_val, A_perv1)\n",
    "print ('KNN  Precision = ', Precision_test2*100)\n",
    "#Recall on knn\n",
    "Recall_test2 = metrics.recall_score(A_val, A_perv1)\n",
    "print ('KNN  Recall = ', Recall_test2*100)\n",
    "#F1 score on knn\n",
    "f1_score_test2 = metrics.f1_score(A_val, A_perv1)\n",
    "print ('KNN F1 score= ',f1_score_test2 * 100)\n",
    "print(classification_report(A_val, A_perv1))"
   ]
  },
  {
   "cell_type": "code",
   "execution_count": 118,
   "id": "3f61dcbd",
   "metadata": {
    "colab": {
     "base_uri": "https://localhost:8080/"
    },
    "id": "3f61dcbd",
    "outputId": "0a6a6eb5-2ec6-44e8-9ce0-efd96f2107ba"
   },
   "outputs": [
    {
     "name": "stdout",
     "output_type": "stream",
     "text": [
      "[[7913 1660]\n",
      " [ 487  420]]\n",
      "KNN  Accuracy test=  79.51335877862596\n",
      "KNN  Precision test=  20.192307692307693\n",
      "KNN  Recall test=  46.30650496141124\n",
      "KNN F1 score test  28.121861399397392\n",
      "              precision    recall  f1-score   support\n",
      "\n",
      "           0       0.94      0.83      0.88      9573\n",
      "           1       0.20      0.46      0.28       907\n",
      "\n",
      "    accuracy                           0.80     10480\n",
      "   macro avg       0.57      0.64      0.58     10480\n",
      "weighted avg       0.88      0.80      0.83     10480\n",
      "\n"
     ]
    }
   ],
   "source": [
    "cf_matrix_test2 = metrics.confusion_matrix(A_test, A_pert)\n",
    "print(cf_matrix_test2)\n",
    "#accuracy on knn\n",
    "accuracy_test2 = metrics.accuracy_score(A_test, A_pert)\n",
    "print ('KNN  Accuracy test= ', accuracy_test2 * 100)\n",
    "#precision on knn\n",
    "Precision_test2 = metrics.precision_score(A_test, A_pert)\n",
    "print ('KNN  Precision test= ', Precision_test2*100)\n",
    "#Recall on knn\n",
    "Recall_test2 = metrics.recall_score(A_test, A_pert)\n",
    "print ('KNN  Recall test= ', Recall_test2*100)\n",
    "#F1 score on knn\n",
    "f1_score_test2 = metrics.f1_score(A_test, A_pert)\n",
    "print ('KNN F1 score test ',f1_score_test2 * 100)\n",
    "\n",
    "print(classification_report(A_test,A_pert))"
   ]
  },
  {
   "cell_type": "markdown",
   "id": "a704763f",
   "metadata": {
    "id": "a704763f"
   },
   "source": [
    "# GridSearchCV LogisticRegression"
   ]
  },
  {
   "cell_type": "code",
   "execution_count": 33,
   "id": "9e538711",
   "metadata": {
    "id": "9e538711"
   },
   "outputs": [],
   "source": [
    "grid_values_2 = {'penalty': ['l1','l2'], 'C':[1,100,1000]}"
   ]
  },
  {
   "cell_type": "code",
   "execution_count": 34,
   "id": "16d65f5d",
   "metadata": {
    "colab": {
     "base_uri": "https://localhost:8080/"
    },
    "id": "16d65f5d",
    "outputId": "bda0a87f-4163-4c3d-8683-aa95c1df2e96"
   },
   "outputs": [
    {
     "data": {
      "text/plain": [
       "{'penalty': ['l1', 'l2'],\n",
       " 'C': [0.5, 1, 100, 1000],\n",
       " 'solver': ['liblinear', 'saga']}"
      ]
     },
     "execution_count": 34,
     "metadata": {},
     "output_type": "execute_result"
    }
   ],
   "source": [
    "penalty = ['l1', 'l2']\n",
    "C = [0.5, 1, 100, 1000]\n",
    "solver = ['liblinear', 'saga']\n",
    "\n",
    "grid_values_2 = dict(penalty=penalty, C=C, solver=solver)\n",
    "grid_values_2"
   ]
  },
  {
   "cell_type": "code",
   "execution_count": 35,
   "id": "bb90442c",
   "metadata": {
    "colab": {
     "base_uri": "https://localhost:8080/"
    },
    "id": "bb90442c",
    "outputId": "131d0277-7277-4315-e34f-a1f67fbf4fd5"
   },
   "outputs": [
    {
     "data": {
      "text/plain": [
       "GridSearchCV(cv=5, estimator=LogisticRegression(),\n",
       "             param_grid={'C': [0.5, 1, 100, 1000], 'penalty': ['l1', 'l2'],\n",
       "                         'solver': ['liblinear', 'saga']},\n",
       "             scoring='recall')"
      ]
     },
     "execution_count": 35,
     "metadata": {},
     "output_type": "execute_result"
    }
   ],
   "source": [
    "modalLogisr_2=LogisticRegression()\n",
    "Logistic_2 = GridSearchCV(modalLogisr_2, grid_values_2, cv=5, scoring='recall')\n",
    "Logistic_2.fit(B_train,A_train)"
   ]
  },
  {
   "cell_type": "code",
   "execution_count": 36,
   "id": "e2fd6003",
   "metadata": {
    "colab": {
     "base_uri": "https://localhost:8080/"
    },
    "id": "e2fd6003",
    "outputId": "919bb055-5821-4c9f-e9ae-718f8a231a47"
   },
   "outputs": [
    {
     "data": {
      "text/plain": [
       "{'C': 1000, 'penalty': 'l2', 'solver': 'saga'}"
      ]
     },
     "execution_count": 36,
     "metadata": {},
     "output_type": "execute_result"
    }
   ],
   "source": [
    "Logistic_2.best_params_"
   ]
  },
  {
   "cell_type": "markdown",
   "id": "66f909e2",
   "metadata": {
    "id": "66f909e2"
   },
   "source": [
    "# LogisticRegression"
   ]
  },
  {
   "cell_type": "code",
   "execution_count": 37,
   "id": "5bd1ec36",
   "metadata": {
    "id": "5bd1ec36"
   },
   "outputs": [],
   "source": [
    "modalLogisr_2=LogisticRegression( C=100, penalty='l1', solver='liblinear')\n",
    "modalLogisr_2.fit(B_train,A_train)\n",
    "val_predict_2=modalLogisr_2.predict(B_val)\n",
    "test_predict_2=modalLogisr_2.predict(B_test)"
   ]
  },
  {
   "cell_type": "code",
   "execution_count": 38,
   "id": "eRS99i3Wz5Ew",
   "metadata": {
    "colab": {
     "base_uri": "https://localhost:8080/"
    },
    "id": "eRS99i3Wz5Ew",
    "outputId": "8db25d2a-f0d7-4b50-a117-dfe6aaf1b8c4"
   },
   "outputs": [
    {
     "name": "stdout",
     "output_type": "stream",
     "text": [
      "[[6605 3004]\n",
      " [ 341  530]]\n",
      "LogisticRegression  Accuracy =  68.08206106870229\n",
      "LogisticRegression  Precision =  14.997170345217883\n",
      "LogisticRegression  Recall =  60.84959816303099\n",
      "LogisticRegression F1 score=  24.063564131668556\n",
      "              precision    recall  f1-score   support\n",
      "\n",
      "           0       0.95      0.69      0.80      9609\n",
      "           1       0.15      0.61      0.24       871\n",
      "\n",
      "    accuracy                           0.68     10480\n",
      "   macro avg       0.55      0.65      0.52     10480\n",
      "weighted avg       0.88      0.68      0.75     10480\n",
      "\n"
     ]
    }
   ],
   "source": [
    "#val\n",
    "cf_matrixLval_2 = metrics.confusion_matrix(A_val, val_predict_2)\n",
    "print(cf_matrixLval_2)\n",
    "#accuracy on LR\n",
    "accuracyLval_2 = metrics.accuracy_score(A_val, val_predict_2)\n",
    "print ('LogisticRegression  Accuracy = ', accuracyLval_2 * 100)\n",
    "#precision on LR\n",
    "PrecisionLval_2 = metrics.precision_score(A_val, val_predict_2)\n",
    "print ('LogisticRegression  Precision = ', PrecisionLval_2*100)\n",
    "#Recall on LR\n",
    "RecallLval_2 = metrics.recall_score(A_val, val_predict_2)\n",
    "print ('LogisticRegression  Recall = ', RecallLval_2*100)\n",
    "#F1 score on LR\n",
    "f1_scoreLval_2 = metrics.f1_score(A_val, val_predict_2)\n",
    "print ('LogisticRegression F1 score= ',f1_scoreLval_2 * 100)\n",
    "print(classification_report(A_val,val_predict_2))"
   ]
  },
  {
   "cell_type": "code",
   "execution_count": 39,
   "id": "36c6a266",
   "metadata": {
    "colab": {
     "base_uri": "https://localhost:8080/"
    },
    "id": "36c6a266",
    "outputId": "56a53b5e-0eca-4038-8092-e473e6a7ca78"
   },
   "outputs": [
    {
     "name": "stdout",
     "output_type": "stream",
     "text": [
      "[[6596 2977]\n",
      " [ 336  571]]\n",
      "LogisticRegression  Accuracy =  68.38740458015266\n",
      "LogisticRegression  Precision =  16.09357384441939\n",
      "LogisticRegression  Recall =  62.95479603087101\n",
      "LogisticRegression F1 score=  25.634118967452295\n",
      "              precision    recall  f1-score   support\n",
      "\n",
      "           0       0.95      0.69      0.80      9573\n",
      "           1       0.16      0.63      0.26       907\n",
      "\n",
      "    accuracy                           0.68     10480\n",
      "   macro avg       0.56      0.66      0.53     10480\n",
      "weighted avg       0.88      0.68      0.75     10480\n",
      "\n"
     ]
    }
   ],
   "source": [
    "#Test\n",
    "cf_matrixL_2 = metrics.confusion_matrix(A_test, test_predict_2)\n",
    "print(cf_matrixL_2)\n",
    "#accuracy on LR\n",
    "accuracyL_2 = metrics.accuracy_score(A_test, test_predict_2)\n",
    "print ('LogisticRegression  Accuracy test = ', accuracyL_2 * 100)\n",
    "#precision on LR\n",
    "PrecisionL_2 = metrics.precision_score(A_test, test_predict_2)\n",
    "print ('LogisticRegression  Precision test= ', PrecisionL_2*100)\n",
    "#Recall on LR\n",
    "RecallL_2 = metrics.recall_score(A_test, test_predict_2)\n",
    "print ('LogisticRegression  Recall test= ', RecallL_2*100)\n",
    "#F1 score on LR\n",
    "f1_scoreL_2 = metrics.f1_score(A_test, test_predict_2)\n",
    "print ('LogisticRegression F1 score test= ',f1_scoreL_2 * 100)\n",
    "print(classification_report(A_test,test_predict_2))"
   ]
  },
  {
   "cell_type": "markdown",
   "id": "827719c9",
   "metadata": {
    "id": "827719c9",
    "outputId": "2ddba4f6-5763-4a63-cdd5-db6505c30fb9"
   },
   "source": [
    "#Test\n",
    "cf_matrixL_2 = metrics.confusion_matrix(A_test, test_predict_2)\n",
    "print(cf_matrixL_2)\n",
    "#accuracy on LR\n",
    "accuracyL_2 = metrics.accuracy_score(A_test, test_predict_2)\n",
    "print ('LogisticRegression  Accuracy = ', accuracyL_2 * 100)\n",
    "#precision on LR\n",
    "PrecisionL_2 = metrics.precision_score(A_test, test_predict_2)\n",
    "print ('LogisticRegression  Precision = ', PrecisionL_2*100)\n",
    "#Recall on LR\n",
    "RecallL_2 = metrics.recall_score(A_test, test_predict_2)\n",
    "print ('LogisticRegression  Recall = ', RecallL_2*100)\n",
    "#F1 score on LR\n",
    "f1_scoreL_2 = metrics.f1_score(A_test, test_predict_2)\n",
    "print ('LogisticRegression F1 score= ',f1_scoreL_2 * 100)"
   ]
  },
  {
   "cell_type": "markdown",
   "id": "3475c287",
   "metadata": {
    "id": "3475c287"
   },
   "source": [
    "#  GridSearchCV RandomFores"
   ]
  },
  {
   "cell_type": "code",
   "execution_count": 40,
   "id": "58eb3566",
   "metadata": {
    "id": "58eb3566"
   },
   "outputs": [],
   "source": [
    "# Grid search\n",
    "param_grid_22 = { \n",
    "    'n_estimators': [10,20, 30,40],\n",
    "    'max_features': ['auto', 'sqrt', 'log2'],\n",
    "    'max_depth' : [4,5,6,7,8],\n",
    "    'criterion' :['gini', 'entropy']\n",
    "}"
   ]
  },
  {
   "cell_type": "code",
   "execution_count": 41,
   "id": "d1c71daa",
   "metadata": {
    "colab": {
     "base_uri": "https://localhost:8080/"
    },
    "id": "d1c71daa",
    "outputId": "a19f724b-66c9-45d9-9dc4-ac30fbfdbbe8"
   },
   "outputs": [
    {
     "data": {
      "text/plain": [
       "GridSearchCV(cv=5, estimator=RandomForestClassifier(),\n",
       "             param_grid={'criterion': ['gini', 'entropy'],\n",
       "                         'max_depth': [4, 5, 6, 7, 8],\n",
       "                         'max_features': ['auto', 'sqrt', 'log2'],\n",
       "                         'n_estimators': [10, 20, 30, 40]})"
      ]
     },
     "execution_count": 41,
     "metadata": {},
     "output_type": "execute_result"
    }
   ],
   "source": [
    "rfc_2=RandomForestClassifier()\n",
    "CV_rfc_2 = GridSearchCV(rfc_2, param_grid=param_grid_22, cv= 5)\n",
    "CV_rfc_2.fit(B_train, A_train)"
   ]
  },
  {
   "cell_type": "code",
   "execution_count": 42,
   "id": "64486b48",
   "metadata": {
    "colab": {
     "base_uri": "https://localhost:8080/"
    },
    "id": "64486b48",
    "outputId": "47a3b61d-e972-4095-b65e-47487d8f1ee2"
   },
   "outputs": [
    {
     "data": {
      "text/plain": [
       "{'criterion': 'gini',\n",
       " 'max_depth': 8,\n",
       " 'max_features': 'log2',\n",
       " 'n_estimators': 40}"
      ]
     },
     "execution_count": 42,
     "metadata": {},
     "output_type": "execute_result"
    }
   ],
   "source": [
    "CV_rfc_2.best_params_"
   ]
  },
  {
   "cell_type": "markdown",
   "id": "dbf70a05",
   "metadata": {
    "id": "dbf70a05"
   },
   "source": [
    "# RandomFores"
   ]
  },
  {
   "cell_type": "code",
   "execution_count": 43,
   "id": "614fe41f",
   "metadata": {
    "id": "614fe41f"
   },
   "outputs": [],
   "source": [
    "random_forest_2 = RandomForestClassifier(n_estimators= 20, max_depth=4, max_features= 'auto', criterion= 'gini' )\n",
    "random_forest_2.fit(B_train, A_train)\n",
    "random_pred_val2 = random_forest_2.predict(B_val)\n",
    "random_pred_test2 = random_forest_2.predict(B_test)"
   ]
  },
  {
   "cell_type": "code",
   "execution_count": 44,
   "id": "vaBAvm9K0S3g",
   "metadata": {
    "colab": {
     "base_uri": "https://localhost:8080/"
    },
    "id": "vaBAvm9K0S3g",
    "outputId": "f6d52252-6b0d-4c77-d4d3-7618cde7f508"
   },
   "outputs": [
    {
     "name": "stdout",
     "output_type": "stream",
     "text": [
      "[[7453 2156]\n",
      " [ 400  471]]\n",
      "RandomForest  Accuracy =  75.61068702290076\n",
      "RandomForest  Precision =  17.92919680243624\n",
      "RandomForest  Recall =  54.07577497129736\n",
      "RandomForest F1 score=  26.929674099485418\n",
      "              precision    recall  f1-score   support\n",
      "\n",
      "           0       0.95      0.78      0.85      9609\n",
      "           1       0.18      0.54      0.27       871\n",
      "\n",
      "    accuracy                           0.76     10480\n",
      "   macro avg       0.56      0.66      0.56     10480\n",
      "weighted avg       0.89      0.76      0.81     10480\n",
      "\n"
     ]
    }
   ],
   "source": [
    "#val\n",
    "cf_matrixrara_val2 = metrics.confusion_matrix(A_val, random_pred_val2)\n",
    "print(cf_matrixrara_val2)\n",
    "#accuracy on RF\n",
    "accuracyra_val2 = metrics.accuracy_score(A_val, random_pred_val2)\n",
    "print ('RandomForest  Accuracy = ', accuracyra_val2 * 100)\n",
    "#precision on RF\n",
    "Precisionra_val2 = metrics.precision_score(A_val, random_pred_val2)\n",
    "print ('RandomForest  Precision = ', Precisionra_val2*100)\n",
    "#Recall on RF\n",
    "Recallra_val2 = metrics.recall_score(A_val, random_pred_val2)\n",
    "print ('RandomForest  Recall = ', Recallra_val2*100)\n",
    "#F1 score on RF\n",
    "f1_scorera_val2 = metrics.f1_score(A_val, random_pred_val2)\n",
    "print ('RandomForest F1 score= ',f1_scorera_val2 * 100)\n",
    "print(classification_report(A_val,random_pred_val2))"
   ]
  },
  {
   "cell_type": "code",
   "execution_count": 45,
   "id": "44527551",
   "metadata": {
    "colab": {
     "base_uri": "https://localhost:8080/"
    },
    "id": "44527551",
    "outputId": "6f9d4fba-9b37-44f7-c89b-5272a002184c"
   },
   "outputs": [
    {
     "name": "stdout",
     "output_type": "stream",
     "text": [
      "[[7491 2082]\n",
      " [ 413  494]]\n",
      "RandomForest  Accuracy =  76.19274809160305\n",
      "RandomForest  Precision =  19.17701863354037\n",
      "RandomForest  Recall =  54.46527012127894\n",
      "RandomForest F1 score=  28.366350846971006\n"
     ]
    }
   ],
   "source": [
    "#Test\n",
    "cf_matrixrara_test2 = metrics.confusion_matrix(A_test, random_pred_test2)\n",
    "print(cf_matrixrara_test2)\n",
    "#accuracy on RF\n",
    "accuracyra_test2 = metrics.accuracy_score(A_test, random_pred_test2)\n",
    "print ('RandomForest  Accuracy = ', accuracyra_test2 * 100)\n",
    "#precision on RF\n",
    "Precisionra_test2 = metrics.precision_score(A_test, random_pred_test2)\n",
    "print ('RandomForest  Precision = ', Precisionra_test2*100)\n",
    "#Recall on RF\n",
    "Recallra_test2 = metrics.recall_score(A_test, random_pred_test2)\n",
    "print ('RandomForest  Recall = ', Recallra_test2*100)\n",
    "#F1 score on RF\n",
    "f1_scorera_test2 = metrics.f1_score(A_test, random_pred_test2)\n",
    "print ('RandomForest F1 score= ',f1_scorera_test2 * 100)"
   ]
  },
  {
   "cell_type": "markdown",
   "id": "a4a64084",
   "metadata": {
    "id": "a4a64084"
   },
   "source": [
    "# GridSearchCV xgboost"
   ]
  },
  {
   "cell_type": "code",
   "execution_count": null,
   "id": "c9d1a7a0",
   "metadata": {
    "id": "c9d1a7a0"
   },
   "outputs": [],
   "source": []
  },
  {
   "cell_type": "code",
   "execution_count": 46,
   "id": "0d8fbd3c",
   "metadata": {
    "id": "0d8fbd3c"
   },
   "outputs": [],
   "source": [
    "import xgboost\n",
    "from xgboost import XGBClassifier"
   ]
  },
  {
   "cell_type": "code",
   "execution_count": 47,
   "id": "UnuvveGYwvCs",
   "metadata": {
    "id": "UnuvveGYwvCs"
   },
   "outputs": [],
   "source": [
    "estimator_22 = XGBClassifier(\n",
    "    objective= 'binary:logistic',\n",
    "    nthread=4,\n",
    "    seed=42\n",
    ")"
   ]
  },
  {
   "cell_type": "code",
   "execution_count": 48,
   "id": "tEflRToAwx6X",
   "metadata": {
    "id": "tEflRToAwx6X"
   },
   "outputs": [],
   "source": [
    "parameters_22 = {\n",
    "    'max_depth': range (2, 10, 1),\n",
    "    'n_estimators': range(60, 90, 40),\n",
    "    'learning_rate': [0.1, 0.01, 0.05]\n",
    "}"
   ]
  },
  {
   "cell_type": "code",
   "execution_count": 49,
   "id": "bHzKpZYqw0ZY",
   "metadata": {
    "id": "bHzKpZYqw0ZY"
   },
   "outputs": [],
   "source": [
    "alg_2 = xgb.XGBClassifier(objective='binary:logistic')"
   ]
  },
  {
   "cell_type": "code",
   "execution_count": 50,
   "id": "a17eaf34",
   "metadata": {
    "colab": {
     "base_uri": "https://localhost:8080/"
    },
    "id": "a17eaf34",
    "outputId": "aa990fad-8f97-4fd4-c3e3-841e5504230a"
   },
   "outputs": [
    {
     "name": "stdout",
     "output_type": "stream",
     "text": [
      "Fitting 5 folds for each of 24 candidates, totalling 120 fits\n",
      "[14:58:17] WARNING: C:/Users/Administrator/workspace/xgboost-win64_release_1.5.1/src/learner.cc:1115: Starting in XGBoost 1.3.0, the default evaluation metric used with the objective 'binary:logistic' was changed from 'error' to 'logloss'. Explicitly set eval_metric if you'd like to restore the old behavior.\n"
     ]
    },
    {
     "data": {
      "text/plain": [
       "GridSearchCV(cv=5,\n",
       "             estimator=XGBClassifier(base_score=None, booster=None,\n",
       "                                     colsample_bylevel=None,\n",
       "                                     colsample_bynode=None,\n",
       "                                     colsample_bytree=None,\n",
       "                                     enable_categorical=False, gamma=None,\n",
       "                                     gpu_id=None, importance_type=None,\n",
       "                                     interaction_constraints=None,\n",
       "                                     learning_rate=None, max_delta_step=None,\n",
       "                                     max_depth=None, min_child_weight=None,\n",
       "                                     missing=nan, monotone_constraints=None,\n",
       "                                     n_estimators=100, n_jobs=None,\n",
       "                                     num_parallel_tree=None, predictor=None,\n",
       "                                     random_state=None, reg_alpha=None,\n",
       "                                     reg_lambda=None, scale_pos_weight=None,\n",
       "                                     subsample=None, tree_method=None,\n",
       "                                     validate_parameters=None, verbosity=None),\n",
       "             n_jobs=-1,\n",
       "             param_grid={'learning_rate': [0.1, 0.01, 0.05],\n",
       "                         'max_depth': range(2, 10),\n",
       "                         'n_estimators': range(60, 90, 40)},\n",
       "             scoring='precision', verbose=2)"
      ]
     },
     "execution_count": 50,
     "metadata": {},
     "output_type": "execute_result"
    }
   ],
   "source": [
    "xgb_model_2 = xgb.XGBClassifier()\n",
    "clf_2 = GridSearchCV(xgb_model_2, parameters_22, n_jobs=-1, scoring='precision', verbose=2, refit=True,cv=5)             \n",
    "clf_2.fit(B_train,A_train)"
   ]
  },
  {
   "cell_type": "code",
   "execution_count": 51,
   "id": "90e48557",
   "metadata": {
    "colab": {
     "base_uri": "https://localhost:8080/"
    },
    "id": "90e48557",
    "outputId": "c3b6a5e7-6a38-4197-8ecf-fb3fee2cf3f4"
   },
   "outputs": [
    {
     "name": "stdout",
     "output_type": "stream",
     "text": [
      "{'learning_rate': 0.1, 'max_depth': 9, 'n_estimators': 60}\n"
     ]
    }
   ],
   "source": [
    "print(clf_2.best_params_)"
   ]
  },
  {
   "cell_type": "markdown",
   "id": "18835135",
   "metadata": {
    "id": "18835135"
   },
   "source": [
    "# xgboost"
   ]
  },
  {
   "cell_type": "code",
   "execution_count": 52,
   "id": "b7821698",
   "metadata": {
    "id": "b7821698"
   },
   "outputs": [],
   "source": [
    "import xgboost"
   ]
  },
  {
   "cell_type": "code",
   "execution_count": 53,
   "id": "f7d018e6",
   "metadata": {
    "colab": {
     "base_uri": "https://localhost:8080/"
    },
    "id": "f7d018e6",
    "outputId": "ce6dd02f-38f0-4615-a52e-b43d2dda63e8"
   },
   "outputs": [
    {
     "name": "stdout",
     "output_type": "stream",
     "text": [
      "[14:58:19] WARNING: C:/Users/Administrator/workspace/xgboost-win64_release_1.5.1/src/learner.cc:1115: Starting in XGBoost 1.3.0, the default evaluation metric used with the objective 'binary:logistic' was changed from 'error' to 'logloss'. Explicitly set eval_metric if you'd like to restore the old behavior.\n",
      "              precision    recall  f1-score   support\n",
      "\n",
      "           0       0.96      0.82      0.88      9609\n",
      "           1       0.23      0.61      0.33       871\n",
      "\n",
      "    accuracy                           0.80     10480\n",
      "   macro avg       0.59      0.71      0.61     10480\n",
      "weighted avg       0.90      0.80      0.84     10480\n",
      "\n"
     ]
    }
   ],
   "source": [
    "modelxg_2 = xgboost.XGBClassifier(n_estimators= 200, max_depth=2)\n",
    "modelxg_2.fit(B_train,A_train)\n",
    "A_predxg_val2 = modelxg_2.predict(B_val)\n",
    "A_predxg_2 = modelxg_2.predict(B_test)\n",
    "print(classification_report(A_val,A_predxg_val2))"
   ]
  },
  {
   "cell_type": "code",
   "execution_count": 54,
   "id": "yajHtXIl8Zha",
   "metadata": {
    "colab": {
     "base_uri": "https://localhost:8080/"
    },
    "id": "yajHtXIl8Zha",
    "outputId": "900d4e33-d32c-40a7-9a8b-2d6e8473f645"
   },
   "outputs": [
    {
     "name": "stdout",
     "output_type": "stream",
     "text": [
      "[[7845 1764]\n",
      " [ 342  529]]\n",
      "RandomForest  Accuracy =  79.90458015267176\n",
      "RandomForest  Precision =  23.07021369385085\n",
      "RandomForest  Recall =  60.73478760045924\n",
      "RandomForest F1 score=  33.438685208596716\n",
      "              precision    recall  f1-score   support\n",
      "\n",
      "           0       0.96      0.82      0.88      9609\n",
      "           1       0.23      0.61      0.33       871\n",
      "\n",
      "    accuracy                           0.80     10480\n",
      "   macro avg       0.59      0.71      0.61     10480\n",
      "weighted avg       0.90      0.80      0.84     10480\n",
      "\n"
     ]
    }
   ],
   "source": [
    "#val\n",
    "cf_matrixrarav_22 = metrics.confusion_matrix(A_val,A_predxg_val2)\n",
    "print(cf_matrixrarav_22)\n",
    "#accuracy on XG\n",
    "accuracyrxgv_22 = metrics.accuracy_score(A_val,A_predxg_val2)\n",
    "print('RandomForest  Accuracy = ', accuracyrxgv_22 * 100)\n",
    "#precision on XG\n",
    "Precisionraxv_22 = metrics.precision_score(A_val,A_predxg_val2)\n",
    "print ('RandomForest  Precision = ', Precisionraxv_22*100)\n",
    "#Recall on XG\n",
    "Recallrav_22 = metrics.recall_score(A_val,A_predxg_val2)\n",
    "print ('RandomForest  Recall = ', Recallrav_22*100)\n",
    "#F1 score on XG\n",
    "f1_scorerasv_22 = metrics.f1_score(A_val,A_predxg_val2)\n",
    "print ('RandomForest F1 score= ',f1_scorerasv_22 * 100)\n",
    "print(classification_report(A_val,A_predxg_val2))"
   ]
  },
  {
   "cell_type": "code",
   "execution_count": 55,
   "id": "XF-6uQoN1AMp",
   "metadata": {
    "colab": {
     "base_uri": "https://localhost:8080/"
    },
    "id": "XF-6uQoN1AMp",
    "outputId": "6899a172-fa5f-41a6-ac06-f3cd948caf6c"
   },
   "outputs": [
    {
     "name": "stdout",
     "output_type": "stream",
     "text": [
      "[[7895 1678]\n",
      " [ 347  560]]\n",
      "RandomForest  Accuracy =  80.67748091603053\n",
      "RandomForest  Precision =  25.022341376228773\n",
      "RandomForest  Recall =  61.742006615215\n",
      "RandomForest F1 score=  35.6120826709062\n",
      "              precision    recall  f1-score   support\n",
      "\n",
      "           0       0.96      0.82      0.89      9573\n",
      "           1       0.25      0.62      0.36       907\n",
      "\n",
      "    accuracy                           0.81     10480\n",
      "   macro avg       0.60      0.72      0.62     10480\n",
      "weighted avg       0.90      0.81      0.84     10480\n",
      "\n"
     ]
    }
   ],
   "source": [
    "#test\n",
    "cf_matrixrara_22 = metrics.confusion_matrix(A_test, A_predxg_2)\n",
    "print(cf_matrixrara_22)\n",
    "#accuracy on XG\n",
    "accuracyrxg_22 = metrics.accuracy_score(A_test, A_predxg_2)\n",
    "print ('RandomForest  Accuracy = ', accuracyrxg_22 * 100)\n",
    "#precision on XG\n",
    "Precisionrax_22 = metrics.precision_score(A_test, A_predxg_2)\n",
    "print ('RandomForest  Precision = ', Precisionrax_22*100)\n",
    "#Recall on XG\n",
    "Recallrav_22 = metrics.recall_score(A_test, A_predxg_2)\n",
    "print ('RandomForest  Recall = ', Recallrav_22*100)\n",
    "#F1 score on XG\n",
    "f1_scoreras_22 = metrics.f1_score(A_test, A_predxg_2)\n",
    "print ('RandomForest F1 score= ',f1_scoreras_22 * 100)\n",
    "print(classification_report(A_test,A_predxg_2))"
   ]
  },
  {
   "cell_type": "markdown",
   "id": "da563bb3",
   "metadata": {
    "id": "da563bb3",
    "outputId": "0582dbe8-4f85-4c25-f991-b34593fe3522"
   },
   "source": [
    "cf_matrixrara_22 = metrics.confusion_matrix(A_test, A_predxg_2)\n",
    "print(cf_matrixrara_22)\n",
    "#accuracy on LR\n",
    "accuracyrxg_22 = metrics.accuracy_score(A_test, A_predxg_2\n",
    "print ('RandomForest  Accuracy = ', accuracyrxg_22 * 100)\n",
    "#precision on LR\n",
    "Precisionrax_22 = metrics.precision_score(A_test, A_predxg_2)\n",
    "print ('RandomForest  Precision = ', Precisionrax_22*100)\n",
    "#Recall on LR\n",
    "Recallrav_22 = metrics.recall_score(A_test, A_predxg_2)\n",
    "print ('RandomForest  Recall = ', Recallrav_22*100)\n",
    "#F1 score on LR\n",
    "f1_scoreras_22 = metrics.f1_score(A_test, A_predxg_2)\n",
    "print ('RandomForest F1 score= ',f1_scoreras_22 * 100)"
   ]
  },
  {
   "cell_type": "markdown",
   "id": "52y9EEsg0Ymm",
   "metadata": {
    "id": "52y9EEsg0Ymm"
   },
   "source": [
    "# GridSearchCV LGBM"
   ]
  },
  {
   "cell_type": "code",
   "execution_count": 56,
   "id": "nTRICwQQ0fpp",
   "metadata": {
    "id": "nTRICwQQ0fpp"
   },
   "outputs": [],
   "source": [
    "import lightgbm as lgb\n",
    "from sklearn.model_selection import RandomizedSearchCV\n",
    "gb_2=lgb.LGBMClassifier()\n",
    "parameters_2 = {'num_leaves':[20,40,60,80,100], 'min_child_samples':[5,10,15],'max_depth':[5,10,20],\n",
    "             'learning_rate':[0.05,0.1,0.2],'reg_alpha':[0,0.01,0.03]}\n"
   ]
  },
  {
   "cell_type": "code",
   "execution_count": 57,
   "id": "Zuny5IR9u3a4",
   "metadata": {
    "colab": {
     "base_uri": "https://localhost:8080/"
    },
    "id": "Zuny5IR9u3a4",
    "outputId": "3f6ff28e-ac55-4f72-e0f7-ac60232458ad"
   },
   "outputs": [
    {
     "data": {
      "text/plain": [
       "GridSearchCV(cv=5, estimator=LGBMClassifier(), n_jobs=-1,\n",
       "             param_grid={'learning_rate': [0.05, 0.1, 0.2],\n",
       "                         'max_depth': [5, 10, 20],\n",
       "                         'min_child_samples': [5, 10, 15],\n",
       "                         'num_leaves': [20, 40, 60, 80, 100],\n",
       "                         'reg_alpha': [0, 0.01, 0.03]},\n",
       "             scoring='precision')"
      ]
     },
     "execution_count": 57,
     "metadata": {},
     "output_type": "execute_result"
    }
   ],
   "source": [
    "lgmb_22 = GridSearchCV(gb_2, parameters_2, n_jobs=-1, scoring='precision',cv=5)\n",
    "lgmb_22.fit(B_train,A_train)"
   ]
  },
  {
   "cell_type": "code",
   "execution_count": 58,
   "id": "kzLTIO7pvXij",
   "metadata": {
    "colab": {
     "base_uri": "https://localhost:8080/"
    },
    "id": "kzLTIO7pvXij",
    "outputId": "699d364f-8e80-4aa2-fd81-bb0a1aa63960"
   },
   "outputs": [
    {
     "name": "stdout",
     "output_type": "stream",
     "text": [
      "{'learning_rate': 0.2, 'max_depth': 20, 'min_child_samples': 5, 'num_leaves': 100, 'reg_alpha': 0}\n"
     ]
    }
   ],
   "source": [
    "print(lgmb_22.best_params_)"
   ]
  },
  {
   "cell_type": "markdown",
   "id": "5804aba1",
   "metadata": {
    "id": "5804aba1"
   },
   "source": [
    "# LGBMClassifier"
   ]
  },
  {
   "cell_type": "code",
   "execution_count": 59,
   "id": "9e9af3b1",
   "metadata": {
    "colab": {
     "base_uri": "https://localhost:8080/"
    },
    "id": "9e9af3b1",
    "outputId": "a956503b-5cd6-40dc-a2af-81af35ac7487"
   },
   "outputs": [
    {
     "data": {
      "text/plain": [
       "LGBMClassifier(learning_rate=0.05, max_depth=5, min_child_samples=5,\n",
       "               num_leaves=20, reg_alpha=0.01)"
      ]
     },
     "execution_count": 59,
     "metadata": {},
     "output_type": "execute_result"
    }
   ],
   "source": [
    "import lightgbm as lgb\n",
    "modelgbm_2 = lgb.LGBMClassifier(learning_rate= 0.05, max_depth= 5, min_child_samples= 5, num_leaves= 20, reg_alpha= 0.01)\n",
    "modelgbm_2.fit(B_train,A_train)"
   ]
  },
  {
   "cell_type": "code",
   "execution_count": 60,
   "id": "c5ff6b17",
   "metadata": {
    "id": "c5ff6b17"
   },
   "outputs": [],
   "source": [
    "y_lightgbm_predval_2 = modelgbm_2.predict(B_val)\n",
    "y_lightgbm_pred_2 = modelgbm_2.predict(B_test)"
   ]
  },
  {
   "cell_type": "markdown",
   "id": "b030ae02",
   "metadata": {
    "id": "b030ae02",
    "outputId": "6649eec8-45ed-405a-b548-df251a5813b3"
   },
   "source": [
    "cf_matrixrarass_22 = metrics.confusion_matrix(A_test, A_lightgbm_pred_2)\n",
    "print(cf_matrixrarass_22)\n",
    "#accuracy on LR\n",
    "accuracyrass = metrics.accuracy_score(A_test, A_lightgbm_pred_2)\n",
    "print ('LGBM  Accuracy = ', accuracyrass * 100)\n",
    "#precision on LR\n",
    "Precisionrsas = metrics.precision_score(A_test, A_lightgbm_pred_2)\n",
    "print ('LGBM  Precision = ', Precisionrsas*100)\n",
    "#Recall on LR\n",
    "Recalslras = metrics.recall_score(A_test, A_lightgbm_pred_2)\n",
    "print ('LGBM  Recall = ', Recalslras*100)\n",
    "#F1 score on LR\n",
    "f1_scsoreras = metrics.f1_score(A_test, A_lightgbm_pred_2)\n",
    "print ('LGBM F1 score= ',f1_scsoreras * 100)"
   ]
  },
  {
   "cell_type": "code",
   "execution_count": 61,
   "id": "uMcMfGIx1rLh",
   "metadata": {
    "colab": {
     "base_uri": "https://localhost:8080/"
    },
    "id": "uMcMfGIx1rLh",
    "outputId": "e8801aec-f4e1-4e30-9afa-f6d56d45b575"
   },
   "outputs": [
    {
     "name": "stdout",
     "output_type": "stream",
     "text": [
      "              precision    recall  f1-score   support\n",
      "\n",
      "           0       0.96      0.86      0.90      9609\n",
      "           1       0.26      0.57      0.36       871\n",
      "\n",
      "    accuracy                           0.83     10480\n",
      "   macro avg       0.61      0.71      0.63     10480\n",
      "weighted avg       0.90      0.83      0.86     10480\n",
      "\n"
     ]
    }
   ],
   "source": [
    "print(classification_report(A_val,y_lightgbm_predval_2))"
   ]
  },
  {
   "cell_type": "code",
   "execution_count": 62,
   "id": "2319a36c",
   "metadata": {
    "colab": {
     "base_uri": "https://localhost:8080/"
    },
    "id": "2319a36c",
    "outputId": "f000d745-4ded-45cf-f4d2-a161d636063a"
   },
   "outputs": [
    {
     "name": "stdout",
     "output_type": "stream",
     "text": [
      "              precision    recall  f1-score   support\n",
      "\n",
      "           0       0.96      0.86      0.91      9573\n",
      "           1       0.29      0.57      0.38       907\n",
      "\n",
      "    accuracy                           0.84     10480\n",
      "   macro avg       0.62      0.72      0.65     10480\n",
      "weighted avg       0.90      0.84      0.86     10480\n",
      "\n"
     ]
    }
   ],
   "source": [
    "print(classification_report(A_test,y_lightgbm_pred_2))"
   ]
  },
  {
   "cell_type": "markdown",
   "id": "3c8e91aa",
   "metadata": {
    "id": "3c8e91aa"
   },
   "source": [
    "# GridSearchCV Support vector machines"
   ]
  },
  {
   "cell_type": "markdown",
   "id": "a56bcaec",
   "metadata": {
    "id": "a56bcaec"
   },
   "source": [
    "tuned_parameters_2 = [\n",
    "    {\"kernel\": [\"rbf\"], \"gamma\": [1e-2], \"C\":  list(range(1,31))},\n",
    "    {\"kernel\": [\"linear\"]}]\n"
   ]
  },
  {
   "cell_type": "markdown",
   "id": "fc93f578",
   "metadata": {
    "id": "fc93f578"
   },
   "source": [
    "clf_2 = GridSearchCV(SVC(), tuned_parameters_2, scoring='precision')\n",
    "GridSearchCV_smvc_2= clf_2.fit(B_train,A_train)"
   ]
  },
  {
   "cell_type": "markdown",
   "id": "5fe2f34a",
   "metadata": {
    "id": "5fe2f34a",
    "outputId": "8d720c63-dfff-4e82-aeff-9aa6c5f9de98"
   },
   "source": [
    "GridSearchCV_smvc_2.best_params_"
   ]
  },
  {
   "cell_type": "markdown",
   "id": "823331bf",
   "metadata": {
    "id": "823331bf"
   },
   "source": [
    "# Support vector machines"
   ]
  },
  {
   "cell_type": "markdown",
   "id": "ba4c8e29",
   "metadata": {
    "id": "ba4c8e29",
    "outputId": "90a64dc9-80e4-46c7-eb88-e6d959604277"
   },
   "source": [
    "model_2 = SVC(kernel ='rbf', C = 10 , gamma = 0.01)\n",
    "model_2.fit(B_train,A_train)\n",
    "z_pred_2=model_2.predict(B_test)"
   ]
  },
  {
   "cell_type": "markdown",
   "id": "bd1f241d",
   "metadata": {
    "id": "bd1f241d"
   },
   "source": [
    "print(classification_report(A_teat,z_pred_2))"
   ]
  },
  {
   "cell_type": "markdown",
   "id": "dfcb9cea",
   "metadata": {
    "id": "dfcb9cea"
   },
   "source": [
    "cf_matrixraras_21 = metrics.confusion_matrix(A_test, z_pred_2)\n",
    "print(cf_matrixraras_21)\n",
    "#accuracy on LR\n",
    "accuracyras_21 = metrics.accuracy_score(A_test, z_pred_2)\n",
    "print ('SVM  Accuracy = ', accuracyras_21 * 100)\n",
    "#precision on LR\n",
    "Precisionras_21 = metrics.precision_score(A_test, z_pred_2)\n",
    "print ('SVM  Precision = ', Precisionras_21*100)\n",
    "#Recall on LR\n",
    "Recallras_21 = metrics.recall_score(A_test, z_pred_2)\n",
    "print ('SVM  Recall = ', Recallras_21*100)\n",
    "#F1 score on LR\n",
    "f1_scoreras_21 = metrics.f1_score(A_test, z_pred_2)\n",
    "print ('SVM F1 score= ',f1_scoreras_21 * 100)"
   ]
  },
  {
   "cell_type": "code",
   "execution_count": 63,
   "id": "44f21bda",
   "metadata": {
    "id": "44f21bda"
   },
   "outputs": [],
   "source": [
    "from sklearn.ensemble import StackingClassifier\n",
    "from sklearn.linear_model import LassoCV\n",
    "from sklearn.linear_model import RidgeCV"
   ]
  },
  {
   "cell_type": "code",
   "execution_count": 64,
   "id": "cd98c0ea",
   "metadata": {
    "id": "cd98c0ea"
   },
   "outputs": [
    {
     "name": "stdout",
     "output_type": "stream",
     "text": [
      "[15:06:32] WARNING: C:/Users/Administrator/workspace/xgboost-win64_release_1.5.1/src/learner.cc:1115: Starting in XGBoost 1.3.0, the default evaluation metric used with the objective 'binary:logistic' was changed from 'error' to 'logloss'. Explicitly set eval_metric if you'd like to restore the old behavior.\n",
      "[15:06:42] WARNING: C:/Users/Administrator/workspace/xgboost-win64_release_1.5.1/src/learner.cc:1115: Starting in XGBoost 1.3.0, the default evaluation metric used with the objective 'binary:logistic' was changed from 'error' to 'logloss'. Explicitly set eval_metric if you'd like to restore the old behavior.\n",
      "[15:06:44] WARNING: C:/Users/Administrator/workspace/xgboost-win64_release_1.5.1/src/learner.cc:1115: Starting in XGBoost 1.3.0, the default evaluation metric used with the objective 'binary:logistic' was changed from 'error' to 'logloss'. Explicitly set eval_metric if you'd like to restore the old behavior.\n",
      "[15:06:45] WARNING: C:/Users/Administrator/workspace/xgboost-win64_release_1.5.1/src/learner.cc:1115: Starting in XGBoost 1.3.0, the default evaluation metric used with the objective 'binary:logistic' was changed from 'error' to 'logloss'. Explicitly set eval_metric if you'd like to restore the old behavior.\n",
      "[15:06:46] WARNING: C:/Users/Administrator/workspace/xgboost-win64_release_1.5.1/src/learner.cc:1115: Starting in XGBoost 1.3.0, the default evaluation metric used with the objective 'binary:logistic' was changed from 'error' to 'logloss'. Explicitly set eval_metric if you'd like to restore the old behavior.\n",
      "[15:06:47] WARNING: C:/Users/Administrator/workspace/xgboost-win64_release_1.5.1/src/learner.cc:1115: Starting in XGBoost 1.3.0, the default evaluation metric used with the objective 'binary:logistic' was changed from 'error' to 'logloss'. Explicitly set eval_metric if you'd like to restore the old behavior.\n"
     ]
    }
   ],
   "source": [
    "# The parameters inside the models can be varied \n",
    "\n",
    "lr = LogisticRegression()\n",
    "\n",
    "# Get these models in a list\n",
    "estimators = [('Random Forest', random_forest_2),\n",
    "              ('LogisticRegression', modalLogisr_2),\n",
    "              ('KNN', clk_2),\n",
    "              ('LGBM', modelgbm_2), \n",
    "              ('Extreme Gradient Boost', modelxg_2)]\n",
    "#Stack these models with StackingRegressor\n",
    "stacking_clf = StackingClassifier(estimators=estimators,\n",
    "                                       final_estimator=lr)\n",
    "stacking_clf.fit(B_train,A_train)\n",
    "Apredval = stacking_clf.predict(B_val)\n",
    "Apred = stacking_clf.predict(B_test)\n",
    "#matrix = confusion_matrix(A_test, Apred)\n",
    "#sns.heatmap(matrix, annot=True, fmt=\"d\");\n",
    "#plt.title('Confusion Matrix');\n",
    "#plt.xlabel('Predicted');\n",
    "#plt.ylabel('True');"
   ]
  },
  {
   "cell_type": "code",
   "execution_count": 65,
   "id": "c8ffb15c",
   "metadata": {
    "id": "c8ffb15c"
   },
   "outputs": [
    {
     "name": "stdout",
     "output_type": "stream",
     "text": [
      "[15:06:52] WARNING: C:/Users/Administrator/workspace/xgboost-win64_release_1.5.1/src/learner.cc:1115: Starting in XGBoost 1.3.0, the default evaluation metric used with the objective 'binary:logistic' was changed from 'error' to 'logloss'. Explicitly set eval_metric if you'd like to restore the old behavior.\n",
      "[15:07:02] WARNING: C:/Users/Administrator/workspace/xgboost-win64_release_1.5.1/src/learner.cc:1115: Starting in XGBoost 1.3.0, the default evaluation metric used with the objective 'binary:logistic' was changed from 'error' to 'logloss'. Explicitly set eval_metric if you'd like to restore the old behavior.\n",
      "[15:07:03] WARNING: C:/Users/Administrator/workspace/xgboost-win64_release_1.5.1/src/learner.cc:1115: Starting in XGBoost 1.3.0, the default evaluation metric used with the objective 'binary:logistic' was changed from 'error' to 'logloss'. Explicitly set eval_metric if you'd like to restore the old behavior.\n",
      "[15:07:05] WARNING: C:/Users/Administrator/workspace/xgboost-win64_release_1.5.1/src/learner.cc:1115: Starting in XGBoost 1.3.0, the default evaluation metric used with the objective 'binary:logistic' was changed from 'error' to 'logloss'. Explicitly set eval_metric if you'd like to restore the old behavior.\n",
      "[15:07:06] WARNING: C:/Users/Administrator/workspace/xgboost-win64_release_1.5.1/src/learner.cc:1115: Starting in XGBoost 1.3.0, the default evaluation metric used with the objective 'binary:logistic' was changed from 'error' to 'logloss'. Explicitly set eval_metric if you'd like to restore the old behavior.\n",
      "[15:07:07] WARNING: C:/Users/Administrator/workspace/xgboost-win64_release_1.5.1/src/learner.cc:1115: Starting in XGBoost 1.3.0, the default evaluation metric used with the objective 'binary:logistic' was changed from 'error' to 'logloss'. Explicitly set eval_metric if you'd like to restore the old behavior.\n"
     ]
    }
   ],
   "source": [
    "lr = LogisticRegression()\n",
    "\n",
    "estimators = [('Random Forest', random_forest_2),\n",
    "              ('LogisticRegression', modalLogisr_2),\n",
    "              ('KNN', clk_2),\n",
    "              ('LGBM', modelgbm_2), \n",
    "              ('Extreme Gradient Boost', modelxg_2)]\n",
    "\n",
    "stacking_clf = StackingClassifier(estimators=estimators, final_estimator=lr)\n",
    "stacking_clf.fit(B_train,A_train)\n",
    "Apred_val2 = stacking_clf.predict(B_val)\n",
    "Apred = stacking_clf.predict(B_test)"
   ]
  },
  {
   "cell_type": "code",
   "execution_count": null,
   "id": "4b232f82",
   "metadata": {
    "id": "4b232f82"
   },
   "outputs": [],
   "source": []
  },
  {
   "cell_type": "code",
   "execution_count": 66,
   "id": "2c46c388",
   "metadata": {
    "colab": {
     "base_uri": "https://localhost:8080/",
     "height": 350
    },
    "id": "2c46c388",
    "outputId": "8846704c-9737-4e2f-8657-f53f406ff4ab"
   },
   "outputs": [
    {
     "data": {
      "image/png": "[encoded data removed]",
      "text/plain": [
       "<Figure size 720x360 with 1 Axes>"
      ]
     },
     "metadata": {},
     "output_type": "display_data"
    }
   ],
   "source": [
    "modalLogisr_2_false_positive_rate,modalLogisr_2_true_positive_rate,modalLogisr_2_threshold = metrics.roc_curve(A_test,test_predict_2)\n",
    "random_forest_2_false_positive_rate,random_forest_2_true_positive_rate,random_forest_2_threshold = metrics.roc_curve(A_test, random_pred_test2)                                                             \n",
    "modelxg_2_false_positive_rate,modelxg_2_true_positive_rate,modelxg_2_threshold = metrics.roc_curve(A_test,A_predxg_2)\n",
    "clk_2_false_positive_rate,clk_2_true_positive_rate,clk_2_threshold = metrics.roc_curve(A_test,A_pert)\n",
    "#model_2_false_positive_rate,model_2_true_positive_rate,model_2_threshold = metrics.roc_curve(y_test,y_pred_dtc)\n",
    "modelgbm_2_false_positive_rate,modelgbm_2_true_positive_rate,modelgbm_2_threshold = metrics.roc_curve(A_test,y_lightgbm_pred_2)\n",
    "\n",
    "\n",
    "sns.set_style('whitegrid')\n",
    "plt.figure(figsize=(10,5))\n",
    "plt.title('Receiver Operating Characterstic Curve')\n",
    "plt.plot(modalLogisr_2_false_positive_rate,modalLogisr_2_true_positive_rate,label='Logistic Regression')\n",
    "plt.plot(random_forest_2_false_positive_rate,random_forest_2_true_positive_rate,label='Random Forest')\n",
    "plt.plot(modelxg_2_false_positive_rate,modelxg_2_true_positive_rate,label='Extreme Gradient Boost')\n",
    "plt.plot(clk_2_false_positive_rate,clk_2_true_positive_rate,label='K-Nearest Neighbor')\n",
    "#plt.plot(model_2_false_positive_rate,model_2_true_positive_rate,label='Support Vector Machine')\n",
    "plt.plot(modelgbm_2_false_positive_rate,modelgbm_2_true_positive_rate,label='Light Gradient Boost')\n",
    "\n",
    "plt.plot([0,1],ls='--')\n",
    "plt.plot([0,0],[1,0],c='.5')\n",
    "plt.plot([1,1],c='.5')\n",
    "plt.ylabel('True positive rate')\n",
    "plt.xlabel('False positive rate')\n",
    "plt.legend()\n",
    "plt.show()"
   ]
  },
  {
   "cell_type": "code",
   "execution_count": null,
   "id": "TwAP8AP92Gcy",
   "metadata": {
    "id": "TwAP8AP92Gcy"
   },
   "outputs": [],
   "source": []
  },
  {
   "cell_type": "code",
   "execution_count": 67,
   "id": "2f393ba6",
   "metadata": {
    "id": "2f393ba6"
   },
   "outputs": [],
   "source": [
    "import pandas as pd\n",
    "\n",
    "from sklearn.feature_selection import SelectFromModel"
   ]
  },
  {
   "cell_type": "code",
   "execution_count": 68,
   "id": "7ddd1cd3",
   "metadata": {},
   "outputs": [
    {
     "data": {
      "text/plain": [
       "SelectFromModel(estimator=RandomForestClassifier())"
      ]
     },
     "execution_count": 68,
     "metadata": {},
     "output_type": "execute_result"
    }
   ],
   "source": [
    "sel = SelectFromModel(RandomForestClassifier(n_estimators = 100))\n",
    "sel.fit(B_train, A_train)"
   ]
  },
  {
   "cell_type": "code",
   "execution_count": 69,
   "id": "d7f08a4c",
   "metadata": {},
   "outputs": [
    {
     "data": {
      "text/plain": [
       "array([False,  True, False,  True, False,  True, False, False, False])"
      ]
     },
     "execution_count": 69,
     "metadata": {},
     "output_type": "execute_result"
    }
   ],
   "source": [
    "sel.get_support()"
   ]
  },
  {
   "cell_type": "code",
   "execution_count": 70,
   "id": "d11a8f6b",
   "metadata": {},
   "outputs": [
    {
     "data": {
      "text/plain": [
       "3"
      ]
     },
     "execution_count": 70,
     "metadata": {},
     "output_type": "execute_result"
    }
   ],
   "source": [
    "selected_feat= B_train.columns[(sel.get_support())]\n",
    "len(selected_feat)"
   ]
  },
  {
   "cell_type": "code",
   "execution_count": 71,
   "id": "d4857d50",
   "metadata": {},
   "outputs": [
    {
     "name": "stdout",
     "output_type": "stream",
     "text": [
      "Index(['age', 'length_of_service', 'avg_training_score'], dtype='object')\n"
     ]
    }
   ],
   "source": [
    "print(selected_feat)"
   ]
  },
  {
   "cell_type": "code",
   "execution_count": 72,
   "id": "538d1fe7",
   "metadata": {},
   "outputs": [
    {
     "data": {
      "text/plain": [
       "<BarContainer object of 9 artists>"
      ]
     },
     "execution_count": 72,
     "metadata": {},
     "output_type": "execute_result"
    },
    {
     "data": {
      "image/png": "[encoded data removed]",
      "text/plain": [
       "<Figure size 800x800 with 1 Axes>"
      ]
     },
     "metadata": {},
     "output_type": "display_data"
    }
   ],
   "source": [
    "model = RandomForestClassifier(n_estimators=100, bootstrap = True,max_features = 'sqrt')\n",
    "\n",
    "model.fit(B_train, A_train)\n",
    "\n",
    "fi = pd.DataFrame({'feature': list(B_train),'importance': \n",
    "model.feature_importances_}).sort_values('importance', ascending = False)\n",
    "plt.figure(figsize=(10, 10), dpi=80)\n",
    "plt.barh(fi['feature'],fi['importance'])"
   ]
  },
  {
   "cell_type": "code",
   "execution_count": 73,
   "id": "dbe886be",
   "metadata": {},
   "outputs": [],
   "source": [
    "y=df1[\"is_promoted\"]\n",
    "#df2= df1.filter([\"awards_won\",\"avg_training_score\",\"awards_won1\"], axis=1)\n",
    "df2= df1.filter(['age', 'length_of_service', 'avg_training_score'], axis=1)\n",
    "X=df2"
   ]
  },
  {
   "cell_type": "code",
   "execution_count": 74,
   "id": "2b4a409c",
   "metadata": {},
   "outputs": [],
   "source": [
    "X_train_val, X_test, y_train_val, y_test = train_test_split(X, y, test_size=0.2,random_state=42)\n",
    "X_train, X_val, y_train, y_val = train_test_split(X_train_val, y_train_val, test_size=.25, random_state=43)"
   ]
  },
  {
   "cell_type": "code",
   "execution_count": 75,
   "id": "49a7245f",
   "metadata": {},
   "outputs": [
    {
     "name": "stdout",
     "output_type": "stream",
     "text": [
      "Shape of X Train Dataset:  (31439, 3)\n",
      "Shape of Y Train Dataset:  (31439,)\n",
      "Shape of X test Dataset:  (10480, 3)\n",
      "Shape of Y test Dataset:  (10480,)\n",
      "Shape of X test Dataset:  (10480, 3)\n",
      "Shape of Y test Dataset:  (10480,)\n"
     ]
    }
   ],
   "source": [
    "print(\"Shape of X Train Dataset: \",X_train.shape)\n",
    "print(\"Shape of Y Train Dataset: \", y_train.shape)\n",
    "print(\"Shape of X test Dataset: \",X_test.shape)\n",
    "print(\"Shape of Y test Dataset: \",y_test.shape)\n",
    "print(\"Shape of X test Dataset: \",X_val.shape)\n",
    "print(\"Shape of Y test Dataset: \",y_val.shape)"
   ]
  },
  {
   "cell_type": "code",
   "execution_count": 76,
   "id": "e7ad96e4",
   "metadata": {
    "scrolled": true
   },
   "outputs": [
    {
     "data": {
      "image/png": "[encoded data removed]",
      "text/plain": [
       "<Figure size 432x288 with 1 Axes>"
      ]
     },
     "metadata": {},
     "output_type": "display_data"
    }
   ],
   "source": [
    "ax = y_train.value_counts().plot.pie(autopct='%.2f')\n",
    "ax = ax.set_title(\"imbalanced \")\n"
   ]
  },
  {
   "cell_type": "code",
   "execution_count": 77,
   "id": "1e40e811",
   "metadata": {},
   "outputs": [
    {
     "data": {
      "image/png": "[encoded data removed]",
      "text/plain": [
       "<Figure size 432x288 with 1 Axes>"
      ]
     },
     "metadata": {},
     "output_type": "display_data"
    }
   ],
   "source": [
    "from imblearn.over_sampling import RandomOverSampler\n",
    "\n",
    "\n",
    "ros = RandomOverSampler(sampling_strategy=\"not majority\") \n",
    "X_train, y_train= ros.fit_resample(X_train, y_train)\n",
    "\n",
    "ax = y_train.value_counts().plot.pie(autopct='%.2f')\n",
    "ax = ax.set_title(\"imbalanced \")"
   ]
  },
  {
   "cell_type": "markdown",
   "id": "7759f3cb",
   "metadata": {},
   "source": [
    "# GridSearchCV   k-nearest neighbors vote"
   ]
  },
  {
   "cell_type": "code",
   "execution_count": 78,
   "id": "9538dad5",
   "metadata": {},
   "outputs": [
    {
     "name": "stdout",
     "output_type": "stream",
     "text": [
      "[1, 2, 3, 4, 5, 6, 7, 8, 9, 10, 11, 12, 13, 14, 15, 16, 17, 18, 19, 20, 21, 22, 23, 24, 25, 26, 27, 28, 29, 30]\n"
     ]
    }
   ],
   "source": [
    "k_range=list(range(1,31))\n",
    "print(k_range)\n",
    "\n"
   ]
  },
  {
   "cell_type": "code",
   "execution_count": 79,
   "id": "3af8e6d2",
   "metadata": {},
   "outputs": [
    {
     "name": "stdout",
     "output_type": "stream",
     "text": [
      "{'n_neighbors': [1, 2, 3, 4, 5, 6, 7, 8, 9, 10, 11, 12, 13, 14, 15, 16, 17, 18, 19, 20, 21, 22, 23, 24, 25, 26, 27, 28, 29, 30]}\n"
     ]
    }
   ],
   "source": [
    "param_grid=dict(n_neighbors=k_range)\n",
    "print(param_grid)\n"
   ]
  },
  {
   "cell_type": "code",
   "execution_count": 80,
   "id": "de0a6951",
   "metadata": {},
   "outputs": [
    {
     "data": {
      "text/plain": [
       "GridSearchCV(cv=5, estimator=KNeighborsClassifier(),\n",
       "             param_grid={'n_neighbors': [1, 2, 3, 4, 5, 6, 7, 8, 9, 10, 11, 12,\n",
       "                                         13, 14, 15, 16, 17, 18, 19, 20, 21, 22,\n",
       "                                         23, 24, 25, 26, 27, 28, 29, 30]},\n",
       "             scoring='recall')"
      ]
     },
     "execution_count": 80,
     "metadata": {},
     "output_type": "execute_result"
    }
   ],
   "source": [
    "knn=KNeighborsClassifier()\n",
    "grid = GridSearchCV(knn, param_grid, cv=5, scoring='recall')\n",
    "grid.fit(X_train,y_train)\n"
   ]
  },
  {
   "cell_type": "code",
   "execution_count": 81,
   "id": "301ad2c3",
   "metadata": {},
   "outputs": [
    {
     "data": {
      "text/plain": [
       "{'n_neighbors': 9}"
      ]
     },
     "execution_count": 81,
     "metadata": {},
     "output_type": "execute_result"
    }
   ],
   "source": [
    "grid.best_params_"
   ]
  },
  {
   "cell_type": "markdown",
   "id": "dc79fd7d",
   "metadata": {},
   "source": [
    "#  k-nearest neighbors vote"
   ]
  },
  {
   "cell_type": "code",
   "execution_count": 82,
   "id": "98242572",
   "metadata": {},
   "outputs": [],
   "source": [
    "clk =KNeighborsClassifier(n_neighbors=9)\n",
    "clk.fit(X_train,y_train)\n",
    "y_pervTES = clk.predict(X_val)\n",
    "y_perv = clk.predict(X_test)"
   ]
  },
  {
   "cell_type": "code",
   "execution_count": 83,
   "id": "54951f8a",
   "metadata": {},
   "outputs": [
    {
     "name": "stdout",
     "output_type": "stream",
     "text": [
      "KNN   Accuracy =  65.92557251908397\n",
      "KNN  Precision =  11.450599657338664\n",
      "KNN  Recall =  46.0390355912744\n",
      "KNN F1  score=  18.339812485707753\n",
      "              precision    recall  f1-score   support\n",
      "\n",
      "           0       0.93      0.68      0.78      9609\n",
      "           1       0.11      0.46      0.18       871\n",
      "\n",
      "    accuracy                           0.66     10480\n",
      "   macro avg       0.52      0.57      0.48     10480\n",
      "weighted avg       0.86      0.66      0.73     10480\n",
      "\n"
     ]
    }
   ],
   "source": [
    "cf_matrix = metrics.confusion_matrix(y_val, y_pervTES)\n",
    "\n",
    "#accuracy on KNN\n",
    "accuracy = metrics.accuracy_score(y_val, y_pervTES)\n",
    "print ('KNN   Accuracy = ', accuracy * 100)\n",
    "#precision on KNN\n",
    "Precision = metrics.precision_score(y_val, y_pervTES)\n",
    "print ('KNN  Precision = ', Precision*100)\n",
    "#Recall on KNN\n",
    "Recall = metrics.recall_score(y_val, y_pervTES)\n",
    "print ('KNN  Recall = ', Recall*100)\n",
    "#F1 score on KNN\n",
    "f1_score = metrics.f1_score(y_val, y_pervTES)\n",
    "print ('KNN F1  score= ',f1_score * 100)\n",
    "print(classification_report(y_val, y_pervTES))\n",
    "f1_scorerass = metrics.f1_score(y_val, y_pervTES)\n",
    "\n"
   ]
  },
  {
   "cell_type": "code",
   "execution_count": 84,
   "id": "a09e13ad",
   "metadata": {},
   "outputs": [
    {
     "name": "stdout",
     "output_type": "stream",
     "text": [
      "KNN  Accuracy =  65.1526717557252\n",
      "KNN  Precision =  11.39240506329114\n",
      "KNN  Recall =  44.65270121278942\n",
      "KNN F1 score=  18.15329448677723\n",
      "              precision    recall  f1-score   support\n",
      "\n",
      "           0       0.93      0.67      0.78      9573\n",
      "           1       0.11      0.45      0.18       907\n",
      "\n",
      "    accuracy                           0.65     10480\n",
      "   macro avg       0.52      0.56      0.48     10480\n",
      "weighted avg       0.86      0.65      0.73     10480\n",
      "\n"
     ]
    }
   ],
   "source": [
    "cf_matrix = metrics.confusion_matrix(y_test, y_perv)\n",
    "\n",
    "#accuracy on KNN\n",
    "accuracy = metrics.accuracy_score(y_test, y_perv)\n",
    "print ('KNN  Accuracy = ', accuracy * 100)\n",
    "#precision on KNN\n",
    "Precision = metrics.precision_score(y_test, y_perv)\n",
    "print ('KNN  Precision = ', Precision*100)\n",
    "#Recall on KNN\n",
    "Recall = metrics.recall_score(y_test, y_perv)\n",
    "print ('KNN  Recall = ', Recall*100)\n",
    "#F1 score on KNN\n",
    "f1_score = metrics.f1_score(y_test, y_perv)\n",
    "print ('KNN F1 score= ',f1_score * 100)\n",
    "print(classification_report(y_test, y_perv))\n",
    "f1_scorerass = metrics.f1_score(y_test, y_perv)\n",
    "\n",
    "\n"
   ]
  },
  {
   "cell_type": "markdown",
   "id": "1d763a7c",
   "metadata": {},
   "source": [
    "# GridSearchCV LogisticRegression"
   ]
  },
  {
   "cell_type": "code",
   "execution_count": 85,
   "id": "6b2d56d8",
   "metadata": {},
   "outputs": [],
   "source": [
    "grid_values = {'penalty': ['l1','l2'], 'C': list(range(1,31))}\n",
    "model_lr = GridSearchCV(grid_values, param_grid=grid_values)"
   ]
  },
  {
   "cell_type": "code",
   "execution_count": 86,
   "id": "fd0f4847",
   "metadata": {},
   "outputs": [
    {
     "name": "stdout",
     "output_type": "stream",
     "text": [
      "{'param_grid': {'penalty': ['l1', 'l2'], 'C': [1, 2, 3, 4, 5, 6, 7, 8, 9, 10, 11, 12, 13, 14, 15, 16, 17, 18, 19, 20, 21, 22, 23, 24, 25, 26, 27, 28, 29, 30]}}\n"
     ]
    }
   ],
   "source": [
    "param_grid=dict(param_grid=grid_values)\n",
    "print(param_grid)"
   ]
  },
  {
   "cell_type": "code",
   "execution_count": 87,
   "id": "6ad4f845",
   "metadata": {},
   "outputs": [
    {
     "data": {
      "text/plain": [
       "GridSearchCV(cv=5, estimator=LogisticRegression(),\n",
       "             param_grid={'C': [1, 2, 3, 4, 5, 6, 7, 8, 9, 10, 11, 12, 13, 14,\n",
       "                               15, 16, 17, 18, 19, 20, 21, 22, 23, 24, 25, 26,\n",
       "                               27, 28, 29, 30],\n",
       "                         'penalty': ['l1', 'l2']},\n",
       "             scoring='recall')"
      ]
     },
     "execution_count": 87,
     "metadata": {},
     "output_type": "execute_result"
    }
   ],
   "source": [
    "modalLogisr=LogisticRegression()\n",
    "Logistic = GridSearchCV(modalLogisr, grid_values, cv=5, scoring='recall')\n",
    "Logistic.fit(X_train,y_train)"
   ]
  },
  {
   "cell_type": "code",
   "execution_count": 88,
   "id": "856ece0a",
   "metadata": {},
   "outputs": [
    {
     "data": {
      "text/plain": [
       "{'C': 1, 'penalty': 'l2'}"
      ]
     },
     "execution_count": 88,
     "metadata": {},
     "output_type": "execute_result"
    }
   ],
   "source": [
    "Logistic.best_params_"
   ]
  },
  {
   "cell_type": "markdown",
   "id": "6d8314e7",
   "metadata": {},
   "source": [
    "# LogisticRegression"
   ]
  },
  {
   "cell_type": "code",
   "execution_count": 89,
   "id": "d719c8e8",
   "metadata": {},
   "outputs": [],
   "source": [
    "modalLogisr=LogisticRegression( C=1, penalty='l2', solver='liblinear')\n",
    "modalLogisr.fit(X_train, y_train)\n",
    "val_predict1=modalLogisr.predict(X_val)\n",
    "val_predict=modalLogisr.predict(X_test)\n",
    "\n",
    "f1s_scorerass = metrics.f1_score(y_test, val_predict)"
   ]
  },
  {
   "cell_type": "code",
   "execution_count": 90,
   "id": "9b7956cf",
   "metadata": {},
   "outputs": [
    {
     "name": "stdout",
     "output_type": "stream",
     "text": [
      "[[6109 3500]\n",
      " [ 359  512]]\n",
      "LogisticRegression  Accuracy =  63.17748091603054\n",
      "LogisticRegression  Precision =  12.761714855433699\n",
      "LogisticRegression  Recall =  58.78300803673938\n",
      "LogisticRegression F1 score=  20.970714724554572\n",
      "              precision    recall  f1-score   support\n",
      "\n",
      "           0       0.94      0.64      0.76      9609\n",
      "           1       0.13      0.59      0.21       871\n",
      "\n",
      "    accuracy                           0.63     10480\n",
      "   macro avg       0.54      0.61      0.48     10480\n",
      "weighted avg       0.88      0.63      0.71     10480\n",
      "\n"
     ]
    }
   ],
   "source": [
    "cf_matrixL = metrics.confusion_matrix(y_val, val_predict1)\n",
    "print(cf_matrixL)\n",
    "#accuracy on LR\n",
    "accuracyL = metrics.accuracy_score(y_val, val_predict1)\n",
    "print ('LogisticRegression  Accuracy = ', accuracyL * 100)\n",
    "#precision on LR\n",
    "PrecisionL = metrics.precision_score(y_val, val_predict1)\n",
    "print ('LogisticRegression  Precision = ', PrecisionL*100)\n",
    "#Recall on LR\n",
    "RecallL = metrics.recall_score(y_val, val_predict1)\n",
    "print ('LogisticRegression  Recall = ', RecallL*100)\n",
    "#F1 score on LR\n",
    "f1_scoreL = metrics.f1_score(y_val, val_predict1)\n",
    "print ('LogisticRegression F1 score= ',f1_scoreL * 100)\n",
    "f1_scorerass = metrics.f1_score(y_val, val_predict1)\n",
    "print(classification_report(y_val, val_predict1))"
   ]
  },
  {
   "cell_type": "code",
   "execution_count": 91,
   "id": "0ee38b10",
   "metadata": {},
   "outputs": [
    {
     "name": "stdout",
     "output_type": "stream",
     "text": [
      "[[6125 3448]\n",
      " [ 384  523]]\n",
      "LogisticRegression  Accuracy =  63.43511450381679\n",
      "LogisticRegression  Precision =  13.170486023671618\n",
      "LogisticRegression  Recall =  57.662624035281155\n",
      "LogisticRegression F1 score=  21.443214432144323\n",
      "              precision    recall  f1-score   support\n",
      "\n",
      "           0       0.94      0.64      0.76      9573\n",
      "           1       0.13      0.58      0.21       907\n",
      "\n",
      "    accuracy                           0.63     10480\n",
      "   macro avg       0.54      0.61      0.49     10480\n",
      "weighted avg       0.87      0.63      0.71     10480\n",
      "\n"
     ]
    }
   ],
   "source": [
    "cf_matrixL = metrics.confusion_matrix(y_test, val_predict)\n",
    "print(cf_matrixL)\n",
    "#accuracy on LR\n",
    "accuracyL = metrics.accuracy_score(y_test, val_predict)\n",
    "print ('LogisticRegression  Accuracy = ', accuracyL * 100)\n",
    "#precision on LR\n",
    "PrecisionL = metrics.precision_score(y_test, val_predict)\n",
    "print ('LogisticRegression  Precision = ', PrecisionL*100)\n",
    "#Recall on LR\n",
    "RecallL = metrics.recall_score(y_test, val_predict)\n",
    "print ('LogisticRegression  Recall = ', RecallL*100)\n",
    "#F1 score on LR\n",
    "f1_scoreL = metrics.f1_score(y_test, val_predict)\n",
    "print ('LogisticRegression F1 score= ',f1_scoreL * 100)\n",
    "f1_scorerass = metrics.f1_score(y_test, val_predict)\n",
    "print(classification_report(y_test, val_predict))"
   ]
  },
  {
   "cell_type": "markdown",
   "id": "eace7491",
   "metadata": {},
   "source": [
    "#  GridSearchCV RandomFores"
   ]
  },
  {
   "cell_type": "code",
   "execution_count": 92,
   "id": "fe5a9072",
   "metadata": {},
   "outputs": [],
   "source": [
    "# Grid search\n",
    "param_grid = { \n",
    "    'n_estimators': [10,20, 30,40],\n",
    "    'max_features': ['auto', 'sqrt', 'log2'],\n",
    "    'max_depth' : [4,5,6,7,8],\n",
    "    'criterion' :['gini', 'entropy']\n",
    "}"
   ]
  },
  {
   "cell_type": "code",
   "execution_count": 93,
   "id": "091b1990",
   "metadata": {},
   "outputs": [
    {
     "data": {
      "text/plain": [
       "GridSearchCV(cv=5, estimator=RandomForestClassifier(),\n",
       "             param_grid={'criterion': ['gini', 'entropy'],\n",
       "                         'max_depth': [4, 5, 6, 7, 8],\n",
       "                         'max_features': ['auto', 'sqrt', 'log2'],\n",
       "                         'n_estimators': [10, 20, 30, 40]})"
      ]
     },
     "execution_count": 93,
     "metadata": {},
     "output_type": "execute_result"
    }
   ],
   "source": [
    "rfc=RandomForestClassifier()\n",
    "CV_rfc = GridSearchCV(rfc, param_grid=param_grid, cv= 5)\n",
    "CV_rfc.fit(X_train, y_train)"
   ]
  },
  {
   "cell_type": "code",
   "execution_count": 94,
   "id": "b9d95997",
   "metadata": {},
   "outputs": [
    {
     "data": {
      "text/plain": [
       "{'criterion': 'gini',\n",
       " 'max_depth': 8,\n",
       " 'max_features': 'log2',\n",
       " 'n_estimators': 20}"
      ]
     },
     "execution_count": 94,
     "metadata": {},
     "output_type": "execute_result"
    }
   ],
   "source": [
    "CV_rfc.best_params_"
   ]
  },
  {
   "cell_type": "markdown",
   "id": "644c60b3",
   "metadata": {},
   "source": [
    "# RandomFores"
   ]
  },
  {
   "cell_type": "code",
   "execution_count": 95,
   "id": "6952e058",
   "metadata": {},
   "outputs": [],
   "source": [
    "random_forest = RandomForestClassifier(n_estimators= 40, max_depth=5, max_features= 'auto', criterion= 'gini' )\n",
    "random_forest.fit(X_train, y_train)\n",
    "random_preds = random_forest.predict(X_val)\n",
    "random_pred = random_forest.predict(X_test)\n"
   ]
  },
  {
   "cell_type": "code",
   "execution_count": 96,
   "id": "563ac12a",
   "metadata": {},
   "outputs": [
    {
     "name": "stdout",
     "output_type": "stream",
     "text": [
      "[[5874 3735]\n",
      " [ 329  542]]\n",
      "RandomForest  Accuracy =  61.221374045801525\n",
      "RandomForest  Precision =  12.672433949029694\n",
      "RandomForest  Recall =  62.227324913892076\n",
      "RandomForest F1 score=  21.056721056721056\n",
      "              precision    recall  f1-score   support\n",
      "\n",
      "           0       0.95      0.61      0.74      9609\n",
      "           1       0.13      0.62      0.21       871\n",
      "\n",
      "    accuracy                           0.61     10480\n",
      "   macro avg       0.54      0.62      0.48     10480\n",
      "weighted avg       0.88      0.61      0.70     10480\n",
      "\n"
     ]
    }
   ],
   "source": [
    "cf_matrixrara = metrics.confusion_matrix(y_val, random_preds)\n",
    "print(cf_matrixrara)\n",
    "#accuracy on RF\n",
    "accuracyra = metrics.accuracy_score(y_val, random_preds)\n",
    "print ('RandomForest  Accuracy = ', accuracyra * 100)\n",
    "#precision on RF\n",
    "Precisionra = metrics.precision_score(y_val, random_preds)\n",
    "print ('RandomForest  Precision = ', Precisionra*100)\n",
    "#Recall on RF\n",
    "Recallra = metrics.recall_score(y_val, random_preds)\n",
    "print ('RandomForest  Recall = ', Recallra*100)\n",
    "#F1 score on RF\n",
    "f1_scorera = metrics.f1_score(y_val, random_preds)\n",
    "print ('RandomForest F1 score= ',f1_scorera * 100)\n",
    "print(classification_report(y_val, random_preds))"
   ]
  },
  {
   "cell_type": "code",
   "execution_count": 97,
   "id": "5edda9ae",
   "metadata": {},
   "outputs": [
    {
     "name": "stdout",
     "output_type": "stream",
     "text": [
      "[[5868 3705]\n",
      " [ 352  555]]\n",
      "RandomForest  Accuracy =  61.288167938931295\n",
      "RandomForest  Precision =  13.028169014084506\n",
      "RandomForest  Recall =  61.19073869900772\n",
      "RandomForest F1 score=  21.482485000967678\n",
      "              precision    recall  f1-score   support\n",
      "\n",
      "           0       0.94      0.61      0.74      9573\n",
      "           1       0.13      0.61      0.21       907\n",
      "\n",
      "    accuracy                           0.61     10480\n",
      "   macro avg       0.54      0.61      0.48     10480\n",
      "weighted avg       0.87      0.61      0.70     10480\n",
      "\n"
     ]
    }
   ],
   "source": [
    "cf_matrixrara = metrics.confusion_matrix(y_test, random_pred)\n",
    "print(cf_matrixrara)\n",
    "#accuracy on RF\n",
    "accuracyra = metrics.accuracy_score(y_test, random_pred)\n",
    "print ('RandomForest  Accuracy = ', accuracyra * 100)\n",
    "#precision on RF\n",
    "Precisionra = metrics.precision_score(y_test, random_pred)\n",
    "print ('RandomForest  Precision = ', Precisionra*100)\n",
    "#Recall on RF\n",
    "Recallra = metrics.recall_score(y_test, random_pred)\n",
    "print ('RandomForest  Recall = ', Recallra*100)\n",
    "#F1 score on RF\n",
    "f1_scorera = metrics.f1_score(y_test, random_pred)\n",
    "print ('RandomForest F1 score= ',f1_scorera * 100)\n",
    "print(classification_report(y_test, random_pred))"
   ]
  },
  {
   "cell_type": "markdown",
   "id": "5ce19200",
   "metadata": {},
   "source": [
    "# GridSearchCV xgboost"
   ]
  },
  {
   "cell_type": "code",
   "execution_count": 98,
   "id": "c6afa213",
   "metadata": {},
   "outputs": [],
   "source": [
    "import xgboost\n",
    "from xgboost import XGBClassifier"
   ]
  },
  {
   "cell_type": "code",
   "execution_count": 99,
   "id": "fd3f0825",
   "metadata": {},
   "outputs": [],
   "source": [
    "estimator = XGBClassifier(\n",
    "    objective= 'binary:logistic',\n",
    "    nthread=4,\n",
    "    seed=42\n",
    ")"
   ]
  },
  {
   "cell_type": "code",
   "execution_count": 100,
   "id": "0dcf5f2a",
   "metadata": {},
   "outputs": [],
   "source": [
    "parameters = {\n",
    "    'max_depth': range (2, 10, 3),\n",
    "    'n_estimators': range(1, 20, 1),\n",
    "}"
   ]
  },
  {
   "cell_type": "code",
   "execution_count": 101,
   "id": "0b467e10",
   "metadata": {},
   "outputs": [],
   "source": [
    "alg = xgb.XGBClassifier(objective='binary:logistic')"
   ]
  },
  {
   "cell_type": "code",
   "execution_count": 102,
   "id": "a66593ea",
   "metadata": {},
   "outputs": [
    {
     "name": "stdout",
     "output_type": "stream",
     "text": [
      "Fitting 5 folds for each of 57 candidates, totalling 285 fits\n",
      "[15:12:07] WARNING: C:/Users/Administrator/workspace/xgboost-win64_release_1.5.1/src/learner.cc:1115: Starting in XGBoost 1.3.0, the default evaluation metric used with the objective 'binary:logistic' was changed from 'error' to 'logloss'. Explicitly set eval_metric if you'd like to restore the old behavior.\n"
     ]
    },
    {
     "data": {
      "text/plain": [
       "GridSearchCV(cv=5,\n",
       "             estimator=XGBClassifier(base_score=None, booster=None,\n",
       "                                     colsample_bylevel=None,\n",
       "                                     colsample_bynode=None,\n",
       "                                     colsample_bytree=None,\n",
       "                                     enable_categorical=False, gamma=None,\n",
       "                                     gpu_id=None, importance_type=None,\n",
       "                                     interaction_constraints=None,\n",
       "                                     learning_rate=None, max_delta_step=None,\n",
       "                                     max_depth=None, min_child_weight=None,\n",
       "                                     missing=nan, monotone_constraints=None,\n",
       "                                     n_estimators=100, n_jobs=None,\n",
       "                                     num_parallel_tree=None, predictor=None,\n",
       "                                     random_state=None, reg_alpha=None,\n",
       "                                     reg_lambda=None, scale_pos_weight=None,\n",
       "                                     subsample=None, tree_method=None,\n",
       "                                     validate_parameters=None, verbosity=None),\n",
       "             n_jobs=-1,\n",
       "             param_grid={'max_depth': range(2, 10, 3),\n",
       "                         'n_estimators': range(1, 20)},\n",
       "             scoring='recall', verbose=2)"
      ]
     },
     "execution_count": 102,
     "metadata": {},
     "output_type": "execute_result"
    }
   ],
   "source": [
    "xgb_model = xgb.XGBClassifier()\n",
    "clf = GridSearchCV(xgb_model, parameters, n_jobs=-1, scoring='recall', verbose=2, refit=True,cv=5)             \n",
    "clf.fit(X_train,y_train)\n",
    "\n"
   ]
  },
  {
   "cell_type": "code",
   "execution_count": 103,
   "id": "0d692542",
   "metadata": {},
   "outputs": [
    {
     "name": "stdout",
     "output_type": "stream",
     "text": [
      "{'max_depth': 2, 'n_estimators': 1}\n"
     ]
    }
   ],
   "source": [
    "print(clf.best_params_)"
   ]
  },
  {
   "cell_type": "markdown",
   "id": "101cd219",
   "metadata": {},
   "source": [
    "# xgboost"
   ]
  },
  {
   "cell_type": "code",
   "execution_count": 104,
   "id": "df1afbe4",
   "metadata": {},
   "outputs": [
    {
     "name": "stdout",
     "output_type": "stream",
     "text": [
      "[15:12:07] WARNING: C:/Users/Administrator/workspace/xgboost-win64_release_1.5.1/src/learner.cc:1115: Starting in XGBoost 1.3.0, the default evaluation metric used with the objective 'binary:logistic' was changed from 'error' to 'logloss'. Explicitly set eval_metric if you'd like to restore the old behavior.\n"
     ]
    }
   ],
   "source": [
    "modelxg = xgboost.XGBClassifier(n_estimators=1, max_depth=2)\n",
    "modelxg.fit(X_train,y_train)\n",
    "y_predxgs = modelxg.predict(X_val)\n",
    "y_predxg = modelxg.predict(X_test)"
   ]
  },
  {
   "cell_type": "code",
   "execution_count": 105,
   "id": "f11b0038",
   "metadata": {},
   "outputs": [
    {
     "name": "stdout",
     "output_type": "stream",
     "text": [
      "[[4919 4690]\n",
      " [ 245  626]]\n",
      "xgboost  Accuracy =  52.91030534351145\n",
      "xgboost  Precision =  11.775771256583898\n",
      "xgboost  Recall =  71.87141216991964\n",
      "xgboost F1 score=  20.23597866494262\n",
      "              precision    recall  f1-score   support\n",
      "\n",
      "           0       0.95      0.51      0.67      9609\n",
      "           1       0.12      0.72      0.20       871\n",
      "\n",
      "    accuracy                           0.53     10480\n",
      "   macro avg       0.54      0.62      0.43     10480\n",
      "weighted avg       0.88      0.53      0.63     10480\n",
      "\n"
     ]
    }
   ],
   "source": [
    "cf_matrixrara = metrics.confusion_matrix(y_val, y_predxgs)\n",
    "print(cf_matrixrara)\n",
    "#accuracy on XG\n",
    "accuracyrxg = metrics.accuracy_score(y_val, y_predxgs)\n",
    "print ('xgboost  Accuracy = ', accuracyrxg * 100)\n",
    "#precision on XG\n",
    "Precisionrax = metrics.precision_score(y_val, y_predxgs)\n",
    "print ('xgboost  Precision = ', Precisionrax*100)\n",
    "#Recall on XG\n",
    "Recallrav = metrics.recall_score(y_val, y_predxgs)\n",
    "print ('xgboost  Recall = ', Recallrav*100)\n",
    "#F1 score on XG\n",
    "f1_scoreras = metrics.f1_score(y_val, y_predxgs)\n",
    "print ('xgboost F1 score= ',f1_scoreras * 100)\n",
    "print(classification_report(y_val, y_predxgs))"
   ]
  },
  {
   "cell_type": "code",
   "execution_count": 106,
   "id": "66f97fa3",
   "metadata": {},
   "outputs": [
    {
     "name": "stdout",
     "output_type": "stream",
     "text": [
      "[[4974 4599]\n",
      " [ 282  625]]\n",
      "xgboost  Accuracy =  53.42557251908397\n",
      "xgboost  Precision =  11.964012251148546\n",
      "xgboost  Recall =  68.90848952590959\n",
      "xgboost F1 score=  20.388191159680314\n",
      "              precision    recall  f1-score   support\n",
      "\n",
      "           0       0.95      0.52      0.67      9573\n",
      "           1       0.12      0.69      0.20       907\n",
      "\n",
      "    accuracy                           0.53     10480\n",
      "   macro avg       0.53      0.60      0.44     10480\n",
      "weighted avg       0.87      0.53      0.63     10480\n",
      "\n"
     ]
    }
   ],
   "source": [
    "cf_matrixrara = metrics.confusion_matrix(y_test, y_predxg)\n",
    "print(cf_matrixrara)\n",
    "#accuracy on XG\n",
    "accuracyrxg = metrics.accuracy_score(y_test, y_predxg)\n",
    "print ('xgboost  Accuracy = ', accuracyrxg * 100)\n",
    "#precision on XG\n",
    "Precisionrax = metrics.precision_score(y_test, y_predxg)\n",
    "print ('xgboost  Precision = ', Precisionrax*100)\n",
    "#Recall on XG\n",
    "Recallrav = metrics.recall_score(y_test, y_predxg)\n",
    "print ('xgboost  Recall = ', Recallrav*100)\n",
    "#F1 score on XG\n",
    "f1_scoreras = metrics.f1_score(y_test, y_predxg)\n",
    "print ('xgboost F1 score= ',f1_scoreras * 100)\n",
    "print(classification_report(y_test, y_predxg))"
   ]
  },
  {
   "cell_type": "markdown",
   "id": "88bd6404",
   "metadata": {},
   "source": [
    "# GridSearchCV LGBM"
   ]
  },
  {
   "cell_type": "code",
   "execution_count": 107,
   "id": "bbed8e92",
   "metadata": {},
   "outputs": [],
   "source": [
    "import lightgbm as lgb\n",
    "from sklearn.model_selection import RandomizedSearchCV\n",
    "gb=lgb.LGBMClassifier()\n",
    "parameters = {'num_leaves':[20,40,60,80,100], 'min_child_samples':[5,10,15],'max_depth':[5,10,20],\n",
    "             'learning_rate':[0.05,0.1,0.2],'reg_alpha':[0,0.01,0.03]}\n"
   ]
  },
  {
   "cell_type": "code",
   "execution_count": 108,
   "id": "d3373b90",
   "metadata": {},
   "outputs": [
    {
     "data": {
      "text/plain": [
       "GridSearchCV(cv=5, estimator=LGBMClassifier(), n_jobs=-1,\n",
       "             param_grid={'learning_rate': [0.05, 0.1, 0.2],\n",
       "                         'max_depth': [5, 10, 20],\n",
       "                         'min_child_samples': [5, 10, 15],\n",
       "                         'num_leaves': [20, 40, 60, 80, 100],\n",
       "                         'reg_alpha': [0, 0.01, 0.03]},\n",
       "             scoring='precision')"
      ]
     },
     "execution_count": 108,
     "metadata": {},
     "output_type": "execute_result"
    }
   ],
   "source": [
    "lgmb = GridSearchCV(gb, parameters, n_jobs=-1, scoring='precision',cv=5)\n",
    "lgmb.fit(X_train,y_train)"
   ]
  },
  {
   "cell_type": "code",
   "execution_count": 109,
   "id": "b4e45a10",
   "metadata": {},
   "outputs": [
    {
     "name": "stdout",
     "output_type": "stream",
     "text": [
      "{'learning_rate': 0.2, 'max_depth': 20, 'min_child_samples': 5, 'num_leaves': 100, 'reg_alpha': 0}\n"
     ]
    }
   ],
   "source": [
    "print(lgmb.best_params_)"
   ]
  },
  {
   "cell_type": "markdown",
   "id": "e49a6bda",
   "metadata": {},
   "source": [
    "# LGBMClassifier"
   ]
  },
  {
   "cell_type": "code",
   "execution_count": 110,
   "id": "eb1f04d3",
   "metadata": {},
   "outputs": [
    {
     "data": {
      "text/plain": [
       "LGBMClassifier(learning_rate=0.2, max_depth=20, min_child_samples=5,\n",
       "               num_leaves=20, reg_alpha=0.03)"
      ]
     },
     "execution_count": 110,
     "metadata": {},
     "output_type": "execute_result"
    }
   ],
   "source": [
    "import lightgbm as lgb\n",
    "modelgbm = lgb.LGBMClassifier(learning_rate= 0.2, max_depth= 20, min_child_samples= 5, num_leaves= 20, reg_alpha= 0.03)\n",
    "modelgbm.fit(X_train,y_train)\n",
    "\n"
   ]
  },
  {
   "cell_type": "code",
   "execution_count": 111,
   "id": "9680792b",
   "metadata": {},
   "outputs": [],
   "source": [
    "y_lightgbm_preds = modelgbm.predict(X_val)\n",
    "y_lightgbm_pred = modelgbm.predict(X_test)"
   ]
  },
  {
   "cell_type": "code",
   "execution_count": 112,
   "id": "6cbdafd9",
   "metadata": {},
   "outputs": [
    {
     "name": "stdout",
     "output_type": "stream",
     "text": [
      "[[6450 3159]\n",
      " [ 407  464]]\n",
      "LGBM  Accuracy =  65.97328244274809\n",
      "LGBM  Precision =  12.807065967430306\n",
      "LGBM  Recall =  53.27210103329506\n",
      "LGBM F1 score=  20.649755229194476\n",
      "              precision    recall  f1-score   support\n",
      "\n",
      "           0       0.94      0.67      0.78      9609\n",
      "           1       0.13      0.53      0.21       871\n",
      "\n",
      "    accuracy                           0.66     10480\n",
      "   macro avg       0.53      0.60      0.49     10480\n",
      "weighted avg       0.87      0.66      0.74     10480\n",
      "\n"
     ]
    }
   ],
   "source": [
    "cf_matrixrarass = metrics.confusion_matrix(y_val, y_lightgbm_preds)\n",
    "print(cf_matrixrarass)\n",
    "#accuracy on LGBM\n",
    "accuracyrass = metrics.accuracy_score(y_val, y_lightgbm_preds)\n",
    "print ('LGBM  Accuracy = ', accuracyrass * 100)\n",
    "#precision on LGBM\n",
    "Precisionrsas = metrics.precision_score(y_val, y_lightgbm_preds)\n",
    "print ('LGBM  Precision = ', Precisionrsas*100)\n",
    "#Recall on LGBM\n",
    "Recalslras = metrics.recall_score(y_val, y_lightgbm_preds)\n",
    "print ('LGBM  Recall = ', Recalslras*100)\n",
    "#F1 score on LGBM\n",
    "f1_scsoreras = metrics.f1_score(y_val, y_lightgbm_preds)\n",
    "print ('LGBM F1 score= ',f1_scsoreras * 100)\n",
    "f1_scorerass = metrics.f1_score(y_val, y_lightgbm_preds)\n",
    "print(classification_report(y_val, y_lightgbm_preds))"
   ]
  },
  {
   "cell_type": "code",
   "execution_count": 113,
   "id": "6c7a9ade",
   "metadata": {},
   "outputs": [
    {
     "name": "stdout",
     "output_type": "stream",
     "text": [
      "[[6455 3118]\n",
      " [ 429  478]]\n",
      "LGBM  Accuracy =  66.15458015267176\n",
      "LGBM  Precision =  13.292547274749722\n",
      "LGBM  Recall =  52.70121278941565\n",
      "LGBM F1 score=  21.230290917166332\n",
      "              precision    recall  f1-score   support\n",
      "\n",
      "           0       0.94      0.67      0.78      9573\n",
      "           1       0.13      0.53      0.21       907\n",
      "\n",
      "    accuracy                           0.66     10480\n",
      "   macro avg       0.54      0.60      0.50     10480\n",
      "weighted avg       0.87      0.66      0.73     10480\n",
      "\n"
     ]
    }
   ],
   "source": [
    "\n",
    "cf_matrixrarass = metrics.confusion_matrix(y_test, y_lightgbm_pred)\n",
    "print(cf_matrixrarass)\n",
    "#accuracy on LGBM\n",
    "accuracyrass = metrics.accuracy_score(y_test, y_lightgbm_pred)\n",
    "print ('LGBM  Accuracy = ', accuracyrass * 100)\n",
    "#precision on LGBM\n",
    "Precisionrsas = metrics.precision_score(y_test, y_lightgbm_pred)\n",
    "print ('LGBM  Precision = ', Precisionrsas*100)\n",
    "#Recall on LGBM\n",
    "Recalslras = metrics.recall_score(y_test, y_lightgbm_pred)\n",
    "print ('LGBM  Recall = ', Recalslras*100)\n",
    "#F1 score on LGBM\n",
    "f1_scsoreras = metrics.f1_score(y_test, y_lightgbm_pred)\n",
    "print ('LGBM F1 score= ',f1_scsoreras * 100)\n",
    "f1_scorerass = metrics.f1_score(y_test, y_lightgbm_pred)\n",
    "print(classification_report(y_test, y_lightgbm_pred))"
   ]
  },
  {
   "cell_type": "markdown",
   "id": "29ffb052",
   "metadata": {},
   "source": [
    "# GridSearchCV Support vector machines"
   ]
  },
  {
   "cell_type": "markdown",
   "id": "44140f39",
   "metadata": {},
   "source": [
    "tuned_parameters = {'C': [0.1, 1, 10],\n",
    "              'gamma': [1, 0.01,0.1],\n",
    "              'kernel': ['rbf','poly','linear']}\n"
   ]
  },
  {
   "cell_type": "markdown",
   "id": "94adcef1",
   "metadata": {},
   "source": [
    "clf = GridSearchCV(SVC(), tuned_parameters, scoring='recall')\n",
    "GridSearchCV_smvc= clf.fit(X_train,y_train)"
   ]
  },
  {
   "cell_type": "markdown",
   "id": "be0584e4",
   "metadata": {},
   "source": [
    "GridSearchCV_smvc.best_params_"
   ]
  },
  {
   "cell_type": "markdown",
   "id": "335a6e1b",
   "metadata": {},
   "source": [
    "# Support vector machines\n"
   ]
  },
  {
   "cell_type": "markdown",
   "id": "e2653d98",
   "metadata": {},
   "source": [
    "model = SVC(kernel ='rbf', C = 10 , gamma = 0.01)\n",
    "model.fit(X_train,y_train)\n",
    "z_pred=model.predict(X_test)\n"
   ]
  },
  {
   "cell_type": "markdown",
   "id": "c5da0a31",
   "metadata": {},
   "source": [
    "cf_matrixraras = metrics.confusion_matrix(y_test, z_pred)\n",
    "print(cf_matrixraras)\n",
    "#accuracy on LR\n",
    "accuracyras = metrics.accuracy_score(y_test, z_pred)\n",
    "print ('SVM  Accuracy = ', accuracyras * 100)\n",
    "#precision on LR\n",
    "Precisionras = metrics.precision_score(y_test, z_pred)\n",
    "print ('SVM  Precision = ', Precisionras*100)\n",
    "#Recall on LR\n",
    "Recallras = metrics.recall_score(y_test, z_pred)\n",
    "print ('SVM  Recall = ', Recallras*100)\n",
    "#F1 score on LR\n",
    "f1_scoreras = metrics.f1_score(y_test, z_pred)\n",
    "print ('SVM F1 score= ',f1_scoreras * 100)\n",
    "f1_scorerass = metrics.f1_score(y_test, z_pred)\n"
   ]
  },
  {
   "cell_type": "markdown",
   "id": "d4bfa0c6",
   "metadata": {},
   "source": [
    "# StackingClassifier"
   ]
  },
  {
   "cell_type": "code",
   "execution_count": 114,
   "id": "eb1d50e1",
   "metadata": {},
   "outputs": [
    {
     "name": "stdout",
     "output_type": "stream",
     "text": [
      "[15:18:36] WARNING: C:/Users/Administrator/workspace/xgboost-win64_release_1.5.1/src/learner.cc:1115: Starting in XGBoost 1.3.0, the default evaluation metric used with the objective 'binary:logistic' was changed from 'error' to 'logloss'. Explicitly set eval_metric if you'd like to restore the old behavior.\n",
      "[15:18:40] WARNING: C:/Users/Administrator/workspace/xgboost-win64_release_1.5.1/src/learner.cc:1115: Starting in XGBoost 1.3.0, the default evaluation metric used with the objective 'binary:logistic' was changed from 'error' to 'logloss'. Explicitly set eval_metric if you'd like to restore the old behavior.\n",
      "[15:18:41] WARNING: C:/Users/Administrator/workspace/xgboost-win64_release_1.5.1/src/learner.cc:1115: Starting in XGBoost 1.3.0, the default evaluation metric used with the objective 'binary:logistic' was changed from 'error' to 'logloss'. Explicitly set eval_metric if you'd like to restore the old behavior.\n",
      "[15:18:41] WARNING: C:/Users/Administrator/workspace/xgboost-win64_release_1.5.1/src/learner.cc:1115: Starting in XGBoost 1.3.0, the default evaluation metric used with the objective 'binary:logistic' was changed from 'error' to 'logloss'. Explicitly set eval_metric if you'd like to restore the old behavior.\n",
      "[15:18:42] WARNING: C:/Users/Administrator/workspace/xgboost-win64_release_1.5.1/src/learner.cc:1115: Starting in XGBoost 1.3.0, the default evaluation metric used with the objective 'binary:logistic' was changed from 'error' to 'logloss'. Explicitly set eval_metric if you'd like to restore the old behavior.\n",
      "[15:18:43] WARNING: C:/Users/Administrator/workspace/xgboost-win64_release_1.5.1/src/learner.cc:1115: Starting in XGBoost 1.3.0, the default evaluation metric used with the objective 'binary:logistic' was changed from 'error' to 'logloss'. Explicitly set eval_metric if you'd like to restore the old behavior.\n",
      "              precision    recall  f1-score   support\n",
      "\n",
      "           0       0.93      0.79      0.85      9609\n",
      "           1       0.12      0.33      0.18       871\n",
      "\n",
      "    accuracy                           0.75     10480\n",
      "   macro avg       0.53      0.56      0.52     10480\n",
      "weighted avg       0.86      0.75      0.80     10480\n",
      "\n",
      "StackingClassifier  Accuracy =  74.80916030534351\n",
      "StackingClassifier  Precision =  12.345679012345679\n",
      "StackingClassifier  Recall =  33.295063145809415\n",
      "StackingClassifier F1 score=  18.012422360248443\n"
     ]
    },
    {
     "data": {
      "image/png": "[encoded data removed]",
      "text/plain": [
       "<Figure size 432x288 with 2 Axes>"
      ]
     },
     "metadata": {},
     "output_type": "display_data"
    }
   ],
   "source": [
    "from sklearn.ensemble import StackingClassifier\n",
    "from sklearn.linear_model import LassoCV\n",
    "from sklearn.linear_model import RidgeCV\n",
    "\n",
    "\n",
    "lr = LogisticRegression()\n",
    "KNN_model= KNeighborsClassifier(n_neighbors=1) \n",
    "LOR_model = LogisticRegression( C=1, penalty='l2', solver='liblinear')\n",
    "RNDOM_model = RandomForestClassifier(n_estimators= 40, max_depth=5, max_features= 'auto', criterion= 'gini' )\n",
    "xgboost_model = xgboost.XGBClassifier(n_estimators= 200, max_depth=2)\n",
    "# Get these models in a list\n",
    "estimators = [('KNe', KNN_model),\n",
    "              ('ogisticRegression', LOR_model),\n",
    "              ('RandomForestClassifier', RNDOM_model),\n",
    "              ('xgboost', xgboost_model)\n",
    "             ]\n",
    "#Stack these models with StackingRegressor\n",
    "stacking_clf = StackingClassifier(estimators=estimators,\n",
    "                                       final_estimator=lr)\n",
    "stacking_clf.fit(X_train,y_train)\n",
    "pred = stacking_clf.predict(X_val)\n",
    "matrix = confusion_matrix(y_val, pred)\n",
    "sns.heatmap(matrix, annot=True, fmt=\"d\");\n",
    "plt.title('Confusion Matrix');\n",
    "plt.xlabel('Predicted');\n",
    "plt.ylabel('True');\n",
    "print(classification_report(y_val, pred))\n",
    "accuracyrxqg = metrics.accuracy_score(y_val, pred)\n",
    "print ('StackingClassifier  Accuracy = ', accuracyrxqg * 100)\n",
    "#precision on LR\n",
    "Precisionqrax = metrics.precision_score(y_val, pred)\n",
    "print ('StackingClassifier  Precision = ', Precisionqrax*100)\n",
    "#Recall on LR\n",
    "Recasllrav = metrics.recall_score(y_val, pred)\n",
    "print ('StackingClassifier  Recall = ', Recasllrav*100)\n",
    "#F1 score on LR\n",
    "f1_scsoreras = metrics.f1_score(y_val, pred)\n",
    "print ('StackingClassifier F1 score= ',f1_scsoreras * 100)\n"
   ]
  },
  {
   "cell_type": "code",
   "execution_count": 115,
   "id": "85d04523",
   "metadata": {},
   "outputs": [
    {
     "data": {
      "image/png": "[encoded data removed]",
      "text/plain": [
       "<Figure size 720x360 with 1 Axes>"
      ]
     },
     "metadata": {},
     "output_type": "display_data"
    }
   ],
   "source": [
    "modalLogisr_false_positive_rate,modalLogisr_true_positive_rate,modalLogisr_threshold = metrics.roc_curve(y_test, val_predict)\n",
    "random_forest_false_positive_rate,random_forest_true_positive_rate,random_forest_threshold = metrics.roc_curve(y_test, random_pred)                                                             \n",
    "modelxg_false_positive_rate,modelxg_true_positive_rate,modelxg_threshold = metrics.roc_curve(y_test, y_predxg)\n",
    "clk_false_positive_rate,clk_true_positive_rate,clk_threshold = metrics.roc_curve(y_test, y_perv)\n",
    "#model_2_false_positive_rate,model_2_true_positive_rate,model_2_threshold = metrics.roc_curve(y_test,y_pred_dtc)\n",
    "modelgbm_false_positive_rate,modelgbm_true_positive_rate,modelgbm_threshold = metrics.roc_curve(y_test, y_lightgbm_pred)\n",
    "\n",
    "\n",
    "sns.set_style('whitegrid')\n",
    "plt.figure(figsize=(10,5))\n",
    "plt.title('Receiver Operating Characterstic Curve')\n",
    "plt.plot(modalLogisr_false_positive_rate,modalLogisr_true_positive_rate,label='Logistic Regression')\n",
    "plt.plot(random_forest_false_positive_rate,random_forest_true_positive_rate,label='Random Forest')\n",
    "plt.plot(modelxg_false_positive_rate,modelxg_true_positive_rate,label='Extreme Gradient Boost')\n",
    "plt.plot(clk_false_positive_rate,clk_true_positive_rate,label='K-Nearest Neighbor')\n",
    "#plt.plot(model_2_false_positive_rate,model_2_true_positive_rate,label='Support Vector Machine')\n",
    "plt.plot(modelgbm_false_positive_rate,modelgbm_true_positive_rate,label='Light Gradient Boost')\n",
    "\n",
    "plt.plot([0,1],ls='--')\n",
    "plt.plot([0,0],[1,0],c='.5')\n",
    "plt.plot([1,1],c='.5')\n",
    "plt.ylabel('True positive rate')\n",
    "plt.xlabel('False positive rate')\n",
    "plt.legend()\n",
    "plt.show()"
   ]
  },
  {
   "cell_type": "code",
   "execution_count": null,
   "id": "06862dc8",
   "metadata": {},
   "outputs": [],
   "source": []
  },
  {
   "cell_type": "code",
   "execution_count": null,
   "id": "c16538b3",
   "metadata": {},
   "outputs": [],
   "source": []
  },
  {
   "cell_type": "code",
   "execution_count": null,
   "id": "adf03b8a",
   "metadata": {},
   "outputs": [],
   "source": []
  },
  {
   "cell_type": "code",
   "execution_count": null,
   "id": "842b63b5",
   "metadata": {},
   "outputs": [],
   "source": []
  },
  {
   "cell_type": "code",
   "execution_count": null,
   "id": "e0f60e28",
   "metadata": {},
   "outputs": [],
   "source": []
  }
 ],
 "metadata": {
  "colab": {
   "collapsed_sections": [
    "bf887c90",
    "70360315",
    "dbf70a05",
    "a4a64084",
    "18835135",
    "52y9EEsg0Ymm",
    "5804aba1",
    "51S73Eq21ue-"
   ],
   "name": "HR_newfinal_nn.ipynb",
   "provenance": []
  },
  "kernelspec": {
   "display_name": "Python 3",
   "language": "python",
   "name": "python3"
  },
  "language_info": {
   "codemirror_mode": {
    "name": "ipython",
    "version": 3
   },
   "file_extension": ".py",
   "mimetype": "text/x-python",
   "name": "python",
   "nbconvert_exporter": "python",
   "pygments_lexer": "ipython3",
   "version": "3.8.8"
  }
 },
 "nbformat": 4,
 "nbformat_minor": 5
}
